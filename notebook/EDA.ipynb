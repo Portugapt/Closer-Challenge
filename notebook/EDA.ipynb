{
 "cells": [
  {
   "cell_type": "markdown",
   "id": "dcb5ac2a-f3d4-46d2-9633-61fecbcf4436",
   "metadata": {},
   "source": [
    "# Closer Challenge - Definition\n",
    "\n",
    "\n",
    "Segment clients for better markting campaigns"
   ]
  },
  {
   "cell_type": "markdown",
   "id": "301d6ba0-7ec2-47f5-9df2-0acce40862dc",
   "metadata": {},
   "source": [
    "# Imports\n",
    "\n",
    "## Libraries"
   ]
  },
  {
   "cell_type": "code",
   "execution_count": 1,
   "id": "f8f54baa-8381-4ba5-b5f7-1bc470726bad",
   "metadata": {},
   "outputs": [],
   "source": [
    "import pandas as pd\n",
    "import numpy as np\n",
    "import matplotlib.pyplot as plt\n",
    "import seaborn as sns"
   ]
  },
  {
   "cell_type": "markdown",
   "id": "61f694d4-db18-4558-a1e0-b531c8305ccc",
   "metadata": {},
   "source": [
    "## Dataset"
   ]
  },
  {
   "cell_type": "code",
   "execution_count": 2,
   "id": "95f02af6-3192-4dde-8b2f-84e7f9915409",
   "metadata": {},
   "outputs": [],
   "source": [
    "dataset = pd.read_excel('../data/dataset.xlsx')"
   ]
  },
  {
   "cell_type": "code",
   "execution_count": 3,
   "id": "1e45e8e4-21ec-4cfe-9017-e565f39be758",
   "metadata": {},
   "outputs": [],
   "source": [
    "dfInsurance = dataset.copy()"
   ]
  },
  {
   "cell_type": "markdown",
   "id": "7107804a-3239-471e-a0e1-e9120a61bba2",
   "metadata": {},
   "source": [
    "# Dataset Global Information\n",
    "\n",
    "## Data structure\n",
    "\n",
    "Tamanho (\\#rows): 10296   \n",
    "\\# Colunas: 14\n",
    "Duplicados (Alto nível): 0"
   ]
  },
  {
   "cell_type": "markdown",
   "id": "682cb5b1-053f-4438-9e9d-93eba9fcfb5a",
   "metadata": {},
   "source": [
    "## Statistics by column\n",
    "\n",
    "| Column                              | Missing Values | Mean/Top    | St.dev      |\n",
    "|-------------------------------------|----------------|-------------|-------------|\n",
    "| Customer Identity                   | 0              | 5148.500000 | 2972.343520 |\n",
    "| First Policy´s Year                 | 30             | 1991.062634 | 511.267913  |\n",
    "| Customer Age                        | 17             | 47.992217   | 19.709476   |\n",
    "| Educational Degree                  | 17             | 3 - BSc/MSc | -           |\n",
    "| Gross Monthly Salary                | 36             | 5012.838557 | 2314.900605 |\n",
    "| Geographic Living Area              | 1              | 2.709859    | 1.266291    |\n",
    "| Has Children (Y=1)                  | 21             | 0.706764    | 0.455268    |\n",
    "| Customer Monetary Value             | 0              | 177.892604  | 1945.811545 |\n",
    "| Claims Rate                         | 0              | 0.742785    | 2.916957    |\n",
    "| Premiums in LOB: Motor              | 34             | 300.470252  | 211.914997  |\n",
    "| Premiums in LOB: Household          | 0              | 210.431192  | 352.595984  |\n",
    "| Premiums in LOB: Health             | 43             | 171.580833  | 296.405976  |\n",
    "| Premiums in LOB: Life               | 104            | 41.855782   | 47.480632   |\n",
    "| Premiums in LOB: Work Compensations | 86             | 41.277514   | 51.513572   |"
   ]
  },
  {
   "cell_type": "markdown",
   "id": "35d84071-a22a-4270-ab57-19366cb82293",
   "metadata": {},
   "source": [
    "# Mapping column names\n",
    "\n",
    "| Original Column                     | Changed column     |\n",
    "|-------------------------------------|--------------------|\n",
    "| Customer Identity                   | cod_cust_id        |\n",
    "| First Policy´s Year                 | dt_fpy             |\n",
    "| Customer Age                        | atr_cust_age       |\n",
    "| Educational Degree                  | dsc_edu_deg        |\n",
    "| Gross Monthly Salary                | amt_gms            |\n",
    "| Geographic Living Area              | atr_gla            |\n",
    "| Has Children (Y=1)                  | flg_childen        |\n",
    "| Customer Monetary Value             | amt_cmv            |\n",
    "| Claims Rate                         | rt_cr              |\n",
    "| Premiums in LOB: Motor              | amt_lob_motor      |\n",
    "| Premiums in LOB: Household          | amt_plob_household |\n",
    "| Premiums in LOB: Health             | amt_plob_health    |\n",
    "| Premiums in LOB: Life               | amt_plob_life      |\n",
    "| Premiums in LOB: Work Compensations | amt_plob_wcomp     |"
   ]
  },
  {
   "cell_type": "code",
   "execution_count": 4,
   "id": "e3c3b4e6-e240-43ce-8b3f-aae7cec6ac71",
   "metadata": {},
   "outputs": [
    {
     "data": {
      "text/html": [
       "<div>\n",
       "<style scoped>\n",
       "    .dataframe tbody tr th:only-of-type {\n",
       "        vertical-align: middle;\n",
       "    }\n",
       "\n",
       "    .dataframe tbody tr th {\n",
       "        vertical-align: top;\n",
       "    }\n",
       "\n",
       "    .dataframe thead th {\n",
       "        text-align: right;\n",
       "    }\n",
       "</style>\n",
       "<table border=\"1\" class=\"dataframe\">\n",
       "  <thead>\n",
       "    <tr style=\"text-align: right;\">\n",
       "      <th></th>\n",
       "      <th>cod_cust_id</th>\n",
       "      <th>dt_fpy</th>\n",
       "      <th>atr_cust_age</th>\n",
       "      <th>dsc_edu_deg</th>\n",
       "      <th>amt_gms</th>\n",
       "      <th>atr_gla</th>\n",
       "      <th>flg_childen</th>\n",
       "      <th>amt_cmv</th>\n",
       "      <th>rt_cr</th>\n",
       "      <th>amt_plob_motor</th>\n",
       "      <th>amt_plob_household</th>\n",
       "      <th>amt_plob_health</th>\n",
       "      <th>amt_plob_life</th>\n",
       "      <th>amt_plob_wcomp</th>\n",
       "    </tr>\n",
       "  </thead>\n",
       "  <tbody>\n",
       "    <tr>\n",
       "      <th>0</th>\n",
       "      <td>1</td>\n",
       "      <td>1985.0</td>\n",
       "      <td>34.0</td>\n",
       "      <td>2 - High School</td>\n",
       "      <td>4354.0</td>\n",
       "      <td>1.0</td>\n",
       "      <td>1.0</td>\n",
       "      <td>380.97</td>\n",
       "      <td>0.390032</td>\n",
       "      <td>375.85</td>\n",
       "      <td>79.45</td>\n",
       "      <td>146.36</td>\n",
       "      <td>47.01</td>\n",
       "      <td>16.89</td>\n",
       "    </tr>\n",
       "  </tbody>\n",
       "</table>\n",
       "</div>"
      ],
      "text/plain": [
       "   cod_cust_id  dt_fpy  atr_cust_age      dsc_edu_deg  amt_gms  atr_gla  \\\n",
       "0            1  1985.0          34.0  2 - High School   4354.0      1.0   \n",
       "\n",
       "   flg_childen  amt_cmv     rt_cr  amt_plob_motor  amt_plob_household  \\\n",
       "0          1.0   380.97  0.390032          375.85               79.45   \n",
       "\n",
       "   amt_plob_health  amt_plob_life  amt_plob_wcomp  \n",
       "0           146.36          47.01           16.89  "
      ]
     },
     "execution_count": 4,
     "metadata": {},
     "output_type": "execute_result"
    }
   ],
   "source": [
    "columns_map = {\"Customer Identity\":\"cod_cust_id\",\n",
    "                \"First Policy´s Year\": \"dt_fpy\",\n",
    "                \"Customer Age\": \"atr_cust_age\",\n",
    "                \"Educational Degree\":\"dsc_edu_deg\",\n",
    "                \"Gross Monthly Salary\": \"amt_gms\",\n",
    "                \"Geographic Living Area\": \"atr_gla\",\n",
    "                \"Has Children (Y=1)\":\"flg_childen\",\n",
    "                \"Customer Monetary Value\":\"amt_cmv\",\n",
    "                \"Claims Rate\":\"rt_cr\",\n",
    "                \"Premiums in LOB: Motor\":\"amt_plob_motor\",\n",
    "                \"Premiums in LOB: Household\":\"amt_plob_household\",\n",
    "                \"Premiums in LOB: Health\":\"amt_plob_health\",\n",
    "                \"Premiums in LOB:  Life\":\"amt_plob_life\",\n",
    "                \"Premiums in LOB: Work Compensations\":\"amt_plob_wcomp\"}\n",
    "\n",
    "columns_map_reverse = {v: k for k, v in columns_map.items()}\n",
    "\n",
    "dfInsurance = dfInsurance.rename(columns=columns_map)\n",
    "\n",
    "dfInsurance.head(1)"
   ]
  },
  {
   "cell_type": "code",
   "execution_count": 5,
   "id": "954d7e18-b65c-4a2e-8096-b518c2dcfc4f",
   "metadata": {},
   "outputs": [
    {
     "data": {
      "text/plain": [
       "{'cod_cust_id': 'Customer Identity',\n",
       " 'dt_fpy': 'First Policy´s Year',\n",
       " 'atr_cust_age': 'Customer Age',\n",
       " 'dsc_edu_deg': 'Educational Degree',\n",
       " 'amt_gms': 'Gross Monthly Salary',\n",
       " 'atr_gla': 'Geographic Living Area',\n",
       " 'flg_childen': 'Has Children (Y=1)',\n",
       " 'amt_cmv': 'Customer Monetary Value',\n",
       " 'rt_cr': 'Claims Rate',\n",
       " 'amt_plob_motor': 'Premiums in LOB: Motor',\n",
       " 'amt_plob_household': 'Premiums in LOB: Household',\n",
       " 'amt_plob_health': 'Premiums in LOB: Health',\n",
       " 'amt_plob_life': 'Premiums in LOB:  Life',\n",
       " 'amt_plob_wcomp': 'Premiums in LOB: Work Compensations'}"
      ]
     },
     "execution_count": 5,
     "metadata": {},
     "output_type": "execute_result"
    }
   ],
   "source": [
    "columns_map_reverse"
   ]
  },
  {
   "cell_type": "markdown",
   "id": "cb40d704-4518-4e7d-969a-f11010218f93",
   "metadata": {},
   "source": [
    "# Questions\n",
    "\n",
    "## Project Roadmap\n",
    "* What can we ask the data to get insights.\n",
    "* What can we do with the data to introduce ML techniques\n",
    "\n",
    "\n",
    "Clientes com + de 1 LOB |--> CMV por \\# LOB's | Educational Degrees   \n",
    "First Policy´s Year CORR Customer Monetary Value || Customer Monetary Value CORR Claims Rate"
   ]
  },
  {
   "cell_type": "markdown",
   "id": "2d01245f-f46d-4531-ab1a-0e1f6a0f69fe",
   "metadata": {},
   "source": [
    "## Feature Engineering\n",
    "\n",
    "- [X] (atr_edu_deg) Educational Degree to int -- Make the feature an integer to be ingested posteriorly in analysis and ML\n",
    "- [X] (amt_premium_total) Premium LOB's Total -- Total of LOB's premium can be a rich feature\n",
    "- [ ] (nome_da_var) nome da variavel descritivo -- Introdução/descrição da variavel"
   ]
  },
  {
   "cell_type": "markdown",
   "id": "37127d2c-8860-4539-ad18-5b3886b5139f",
   "metadata": {},
   "source": [
    "## Data Constraints \n",
    "\n",
    "* Some clients have negative (below 0) premiums, why? (possible association with CMV?)\n",
    "* "
   ]
  },
  {
   "cell_type": "markdown",
   "id": "d0b26948-4e37-4509-bcbb-9cc5006ce904",
   "metadata": {},
   "source": [
    "## Data Cohesion\n",
    "\n",
    "* Uma data está com o valor 53784.00\n",
    "* Um customer tem a idate de 988.00\n",
    "* Um CMV com o valor -165680.424 e CR de 250 e picos | Conclusão: Remover cliente   \n",
    "^ 3 observações. Decisão: Remover estas observações."
   ]
  },
  {
   "cell_type": "markdown",
   "id": "ce10a675-bf2a-4386-985d-0b64c780ee34",
   "metadata": {},
   "source": [
    "## Description of the data"
   ]
  },
  {
   "cell_type": "code",
   "execution_count": 6,
   "id": "8af7cade-cd50-4b02-8bda-c0e8e801b6ae",
   "metadata": {
    "tags": []
   },
   "outputs": [
    {
     "data": {
      "text/html": [
       "<div>\n",
       "<style scoped>\n",
       "    .dataframe tbody tr th:only-of-type {\n",
       "        vertical-align: middle;\n",
       "    }\n",
       "\n",
       "    .dataframe tbody tr th {\n",
       "        vertical-align: top;\n",
       "    }\n",
       "\n",
       "    .dataframe thead th {\n",
       "        text-align: right;\n",
       "    }\n",
       "</style>\n",
       "<table border=\"1\" class=\"dataframe\">\n",
       "  <thead>\n",
       "    <tr style=\"text-align: right;\">\n",
       "      <th></th>\n",
       "      <th>cod_cust_id</th>\n",
       "      <th>dt_fpy</th>\n",
       "      <th>atr_cust_age</th>\n",
       "      <th>dsc_edu_deg</th>\n",
       "      <th>amt_gms</th>\n",
       "      <th>atr_gla</th>\n",
       "      <th>flg_childen</th>\n",
       "      <th>amt_cmv</th>\n",
       "      <th>rt_cr</th>\n",
       "      <th>amt_plob_motor</th>\n",
       "      <th>amt_plob_household</th>\n",
       "      <th>amt_plob_health</th>\n",
       "      <th>amt_plob_life</th>\n",
       "      <th>amt_plob_wcomp</th>\n",
       "    </tr>\n",
       "  </thead>\n",
       "  <tbody>\n",
       "    <tr>\n",
       "      <th>0</th>\n",
       "      <td>1</td>\n",
       "      <td>1985.0</td>\n",
       "      <td>34.0</td>\n",
       "      <td>2 - High School</td>\n",
       "      <td>4354.0</td>\n",
       "      <td>1.0</td>\n",
       "      <td>1.0</td>\n",
       "      <td>380.97</td>\n",
       "      <td>0.390032</td>\n",
       "      <td>375.85</td>\n",
       "      <td>79.45</td>\n",
       "      <td>146.36</td>\n",
       "      <td>47.01</td>\n",
       "      <td>16.89</td>\n",
       "    </tr>\n",
       "    <tr>\n",
       "      <th>1</th>\n",
       "      <td>2</td>\n",
       "      <td>1981.0</td>\n",
       "      <td>21.0</td>\n",
       "      <td>2 - High School</td>\n",
       "      <td>1353.0</td>\n",
       "      <td>4.0</td>\n",
       "      <td>1.0</td>\n",
       "      <td>-131.13</td>\n",
       "      <td>1.116503</td>\n",
       "      <td>77.46</td>\n",
       "      <td>416.20</td>\n",
       "      <td>116.69</td>\n",
       "      <td>194.48</td>\n",
       "      <td>106.13</td>\n",
       "    </tr>\n",
       "    <tr>\n",
       "      <th>2</th>\n",
       "      <td>3</td>\n",
       "      <td>1991.0</td>\n",
       "      <td>46.0</td>\n",
       "      <td>1 - Basic</td>\n",
       "      <td>4554.0</td>\n",
       "      <td>3.0</td>\n",
       "      <td>0.0</td>\n",
       "      <td>504.67</td>\n",
       "      <td>0.284810</td>\n",
       "      <td>206.15</td>\n",
       "      <td>224.50</td>\n",
       "      <td>124.58</td>\n",
       "      <td>86.35</td>\n",
       "      <td>99.02</td>\n",
       "    </tr>\n",
       "    <tr>\n",
       "      <th>3</th>\n",
       "      <td>4</td>\n",
       "      <td>1990.0</td>\n",
       "      <td>35.0</td>\n",
       "      <td>3 - BSc/MSc</td>\n",
       "      <td>2197.0</td>\n",
       "      <td>4.0</td>\n",
       "      <td>1.0</td>\n",
       "      <td>-16.99</td>\n",
       "      <td>0.986665</td>\n",
       "      <td>182.48</td>\n",
       "      <td>43.35</td>\n",
       "      <td>311.17</td>\n",
       "      <td>35.34</td>\n",
       "      <td>28.34</td>\n",
       "    </tr>\n",
       "    <tr>\n",
       "      <th>4</th>\n",
       "      <td>5</td>\n",
       "      <td>1986.0</td>\n",
       "      <td>43.0</td>\n",
       "      <td>3 - BSc/MSc</td>\n",
       "      <td>3526.0</td>\n",
       "      <td>4.0</td>\n",
       "      <td>1.0</td>\n",
       "      <td>35.23</td>\n",
       "      <td>0.904281</td>\n",
       "      <td>338.62</td>\n",
       "      <td>47.80</td>\n",
       "      <td>182.59</td>\n",
       "      <td>18.78</td>\n",
       "      <td>41.45</td>\n",
       "    </tr>\n",
       "  </tbody>\n",
       "</table>\n",
       "</div>"
      ],
      "text/plain": [
       "   cod_cust_id  dt_fpy  atr_cust_age      dsc_edu_deg  amt_gms  atr_gla  \\\n",
       "0            1  1985.0          34.0  2 - High School   4354.0      1.0   \n",
       "1            2  1981.0          21.0  2 - High School   1353.0      4.0   \n",
       "2            3  1991.0          46.0        1 - Basic   4554.0      3.0   \n",
       "3            4  1990.0          35.0      3 - BSc/MSc   2197.0      4.0   \n",
       "4            5  1986.0          43.0      3 - BSc/MSc   3526.0      4.0   \n",
       "\n",
       "   flg_childen  amt_cmv     rt_cr  amt_plob_motor  amt_plob_household  \\\n",
       "0          1.0   380.97  0.390032          375.85               79.45   \n",
       "1          1.0  -131.13  1.116503           77.46              416.20   \n",
       "2          0.0   504.67  0.284810          206.15              224.50   \n",
       "3          1.0   -16.99  0.986665          182.48               43.35   \n",
       "4          1.0    35.23  0.904281          338.62               47.80   \n",
       "\n",
       "   amt_plob_health  amt_plob_life  amt_plob_wcomp  \n",
       "0           146.36          47.01           16.89  \n",
       "1           116.69         194.48          106.13  \n",
       "2           124.58          86.35           99.02  \n",
       "3           311.17          35.34           28.34  \n",
       "4           182.59          18.78           41.45  "
      ]
     },
     "execution_count": 6,
     "metadata": {},
     "output_type": "execute_result"
    }
   ],
   "source": [
    "# Overview\n",
    "dfInsurance.head()"
   ]
  },
  {
   "cell_type": "code",
   "execution_count": 7,
   "id": "d86b2342-fbb8-4de9-b902-d2e51f5abad7",
   "metadata": {
    "tags": []
   },
   "outputs": [
    {
     "data": {
      "text/plain": [
       "(10296, 14)"
      ]
     },
     "execution_count": 7,
     "metadata": {},
     "output_type": "execute_result"
    }
   ],
   "source": [
    "# Shape dos dados\n",
    "dfInsurance.shape"
   ]
  },
  {
   "cell_type": "code",
   "execution_count": 8,
   "id": "a41b1d82-620f-4d34-a77a-f4f28b547afc",
   "metadata": {
    "tags": []
   },
   "outputs": [
    {
     "name": "stdout",
     "output_type": "stream",
     "text": [
      "<class 'pandas.core.frame.DataFrame'>\n",
      "RangeIndex: 10296 entries, 0 to 10295\n",
      "Data columns (total 14 columns):\n",
      " #   Column              Non-Null Count  Dtype  \n",
      "---  ------              --------------  -----  \n",
      " 0   cod_cust_id         10296 non-null  int64  \n",
      " 1   dt_fpy              10266 non-null  float64\n",
      " 2   atr_cust_age        10279 non-null  float64\n",
      " 3   dsc_edu_deg         10279 non-null  object \n",
      " 4   amt_gms             10260 non-null  float64\n",
      " 5   atr_gla             10295 non-null  float64\n",
      " 6   flg_childen         10275 non-null  float64\n",
      " 7   amt_cmv             10296 non-null  float64\n",
      " 8   rt_cr               10296 non-null  float64\n",
      " 9   amt_plob_motor      10262 non-null  float64\n",
      " 10  amt_plob_household  10296 non-null  float64\n",
      " 11  amt_plob_health     10253 non-null  float64\n",
      " 12  amt_plob_life       10192 non-null  float64\n",
      " 13  amt_plob_wcomp      10210 non-null  float64\n",
      "dtypes: float64(12), int64(1), object(1)\n",
      "memory usage: 1.1+ MB\n"
     ]
    }
   ],
   "source": [
    "# Info dos tipos de objecto por coluna\n",
    "dfInsurance.info()"
   ]
  },
  {
   "cell_type": "code",
   "execution_count": 9,
   "id": "e6e999e2-0cff-4ed3-beaa-c0d019436ef2",
   "metadata": {
    "tags": []
   },
   "outputs": [
    {
     "data": {
      "text/plain": [
       "cod_cust_id             0\n",
       "dt_fpy                 30\n",
       "atr_cust_age           17\n",
       "dsc_edu_deg            17\n",
       "amt_gms                36\n",
       "atr_gla                 1\n",
       "flg_childen            21\n",
       "amt_cmv                 0\n",
       "rt_cr                   0\n",
       "amt_plob_motor         34\n",
       "amt_plob_household      0\n",
       "amt_plob_health        43\n",
       "amt_plob_life         104\n",
       "amt_plob_wcomp         86\n",
       "dtype: int64"
      ]
     },
     "execution_count": 9,
     "metadata": {},
     "output_type": "execute_result"
    }
   ],
   "source": [
    "# Valores nulos das colunas\n",
    "dfInsurance.isna().sum()"
   ]
  },
  {
   "cell_type": "code",
   "execution_count": 10,
   "id": "6fcfe579-8470-4db1-979f-adfe1cf84ee6",
   "metadata": {
    "tags": []
   },
   "outputs": [
    {
     "data": {
      "text/html": [
       "<div>\n",
       "<style scoped>\n",
       "    .dataframe tbody tr th:only-of-type {\n",
       "        vertical-align: middle;\n",
       "    }\n",
       "\n",
       "    .dataframe tbody tr th {\n",
       "        vertical-align: top;\n",
       "    }\n",
       "\n",
       "    .dataframe thead th {\n",
       "        text-align: right;\n",
       "    }\n",
       "</style>\n",
       "<table border=\"1\" class=\"dataframe\">\n",
       "  <thead>\n",
       "    <tr style=\"text-align: right;\">\n",
       "      <th></th>\n",
       "      <th>count</th>\n",
       "      <th>mean</th>\n",
       "      <th>std</th>\n",
       "      <th>min</th>\n",
       "      <th>25%</th>\n",
       "      <th>50%</th>\n",
       "      <th>75%</th>\n",
       "      <th>max</th>\n",
       "    </tr>\n",
       "  </thead>\n",
       "  <tbody>\n",
       "    <tr>\n",
       "      <th>cod_cust_id</th>\n",
       "      <td>10296.0</td>\n",
       "      <td>5148.500000</td>\n",
       "      <td>2972.343520</td>\n",
       "      <td>1.000</td>\n",
       "      <td>2574.750000</td>\n",
       "      <td>5148.500000</td>\n",
       "      <td>7722.250000</td>\n",
       "      <td>10296.00</td>\n",
       "    </tr>\n",
       "    <tr>\n",
       "      <th>dt_fpy</th>\n",
       "      <td>10266.0</td>\n",
       "      <td>1991.062634</td>\n",
       "      <td>511.267913</td>\n",
       "      <td>1974.000</td>\n",
       "      <td>1980.000000</td>\n",
       "      <td>1986.000000</td>\n",
       "      <td>1992.000000</td>\n",
       "      <td>53784.00</td>\n",
       "    </tr>\n",
       "    <tr>\n",
       "      <th>atr_cust_age</th>\n",
       "      <td>10279.0</td>\n",
       "      <td>47.992217</td>\n",
       "      <td>19.709476</td>\n",
       "      <td>15.000</td>\n",
       "      <td>33.000000</td>\n",
       "      <td>48.000000</td>\n",
       "      <td>63.000000</td>\n",
       "      <td>988.00</td>\n",
       "    </tr>\n",
       "    <tr>\n",
       "      <th>amt_gms</th>\n",
       "      <td>10260.0</td>\n",
       "      <td>5012.838557</td>\n",
       "      <td>2314.900605</td>\n",
       "      <td>665.000</td>\n",
       "      <td>3411.000000</td>\n",
       "      <td>5002.500000</td>\n",
       "      <td>6580.250000</td>\n",
       "      <td>110429.76</td>\n",
       "    </tr>\n",
       "    <tr>\n",
       "      <th>atr_gla</th>\n",
       "      <td>10295.0</td>\n",
       "      <td>2.709859</td>\n",
       "      <td>1.266291</td>\n",
       "      <td>1.000</td>\n",
       "      <td>1.000000</td>\n",
       "      <td>3.000000</td>\n",
       "      <td>4.000000</td>\n",
       "      <td>4.00</td>\n",
       "    </tr>\n",
       "    <tr>\n",
       "      <th>flg_childen</th>\n",
       "      <td>10275.0</td>\n",
       "      <td>0.706764</td>\n",
       "      <td>0.455268</td>\n",
       "      <td>0.000</td>\n",
       "      <td>0.000000</td>\n",
       "      <td>1.000000</td>\n",
       "      <td>1.000000</td>\n",
       "      <td>1.00</td>\n",
       "    </tr>\n",
       "    <tr>\n",
       "      <th>amt_cmv</th>\n",
       "      <td>10296.0</td>\n",
       "      <td>177.892604</td>\n",
       "      <td>1945.811545</td>\n",
       "      <td>-165680.424</td>\n",
       "      <td>-9.440000</td>\n",
       "      <td>186.870000</td>\n",
       "      <td>399.777500</td>\n",
       "      <td>11875.89</td>\n",
       "    </tr>\n",
       "    <tr>\n",
       "      <th>rt_cr</th>\n",
       "      <td>10296.0</td>\n",
       "      <td>0.742785</td>\n",
       "      <td>2.916957</td>\n",
       "      <td>0.000</td>\n",
       "      <td>0.392437</td>\n",
       "      <td>0.720657</td>\n",
       "      <td>0.976811</td>\n",
       "      <td>256.20</td>\n",
       "    </tr>\n",
       "    <tr>\n",
       "      <th>amt_plob_motor</th>\n",
       "      <td>10262.0</td>\n",
       "      <td>300.470252</td>\n",
       "      <td>211.914997</td>\n",
       "      <td>-4.110</td>\n",
       "      <td>190.590000</td>\n",
       "      <td>298.610000</td>\n",
       "      <td>408.300000</td>\n",
       "      <td>11604.42</td>\n",
       "    </tr>\n",
       "    <tr>\n",
       "      <th>amt_plob_household</th>\n",
       "      <td>10296.0</td>\n",
       "      <td>210.431192</td>\n",
       "      <td>352.595984</td>\n",
       "      <td>-75.000</td>\n",
       "      <td>49.450000</td>\n",
       "      <td>132.800000</td>\n",
       "      <td>290.050000</td>\n",
       "      <td>25048.80</td>\n",
       "    </tr>\n",
       "    <tr>\n",
       "      <th>amt_plob_health</th>\n",
       "      <td>10253.0</td>\n",
       "      <td>171.580833</td>\n",
       "      <td>296.405976</td>\n",
       "      <td>-2.110</td>\n",
       "      <td>111.800000</td>\n",
       "      <td>162.810000</td>\n",
       "      <td>219.820000</td>\n",
       "      <td>28272.00</td>\n",
       "    </tr>\n",
       "    <tr>\n",
       "      <th>amt_plob_life</th>\n",
       "      <td>10192.0</td>\n",
       "      <td>41.855782</td>\n",
       "      <td>47.480632</td>\n",
       "      <td>-7.000</td>\n",
       "      <td>9.890000</td>\n",
       "      <td>25.560000</td>\n",
       "      <td>57.790000</td>\n",
       "      <td>398.30</td>\n",
       "    </tr>\n",
       "    <tr>\n",
       "      <th>amt_plob_wcomp</th>\n",
       "      <td>10210.0</td>\n",
       "      <td>41.277514</td>\n",
       "      <td>51.513572</td>\n",
       "      <td>-12.000</td>\n",
       "      <td>10.670000</td>\n",
       "      <td>25.670000</td>\n",
       "      <td>56.790000</td>\n",
       "      <td>1988.70</td>\n",
       "    </tr>\n",
       "  </tbody>\n",
       "</table>\n",
       "</div>"
      ],
      "text/plain": [
       "                      count         mean          std         min  \\\n",
       "cod_cust_id         10296.0  5148.500000  2972.343520       1.000   \n",
       "dt_fpy              10266.0  1991.062634   511.267913    1974.000   \n",
       "atr_cust_age        10279.0    47.992217    19.709476      15.000   \n",
       "amt_gms             10260.0  5012.838557  2314.900605     665.000   \n",
       "atr_gla             10295.0     2.709859     1.266291       1.000   \n",
       "flg_childen         10275.0     0.706764     0.455268       0.000   \n",
       "amt_cmv             10296.0   177.892604  1945.811545 -165680.424   \n",
       "rt_cr               10296.0     0.742785     2.916957       0.000   \n",
       "amt_plob_motor      10262.0   300.470252   211.914997      -4.110   \n",
       "amt_plob_household  10296.0   210.431192   352.595984     -75.000   \n",
       "amt_plob_health     10253.0   171.580833   296.405976      -2.110   \n",
       "amt_plob_life       10192.0    41.855782    47.480632      -7.000   \n",
       "amt_plob_wcomp      10210.0    41.277514    51.513572     -12.000   \n",
       "\n",
       "                            25%          50%          75%        max  \n",
       "cod_cust_id         2574.750000  5148.500000  7722.250000   10296.00  \n",
       "dt_fpy              1980.000000  1986.000000  1992.000000   53784.00  \n",
       "atr_cust_age          33.000000    48.000000    63.000000     988.00  \n",
       "amt_gms             3411.000000  5002.500000  6580.250000  110429.76  \n",
       "atr_gla                1.000000     3.000000     4.000000       4.00  \n",
       "flg_childen            0.000000     1.000000     1.000000       1.00  \n",
       "amt_cmv               -9.440000   186.870000   399.777500   11875.89  \n",
       "rt_cr                  0.392437     0.720657     0.976811     256.20  \n",
       "amt_plob_motor       190.590000   298.610000   408.300000   11604.42  \n",
       "amt_plob_household    49.450000   132.800000   290.050000   25048.80  \n",
       "amt_plob_health      111.800000   162.810000   219.820000   28272.00  \n",
       "amt_plob_life          9.890000    25.560000    57.790000     398.30  \n",
       "amt_plob_wcomp        10.670000    25.670000    56.790000    1988.70  "
      ]
     },
     "execution_count": 10,
     "metadata": {},
     "output_type": "execute_result"
    }
   ],
   "source": [
    "# Estatísticas Colunas (1)\n",
    "dfInsurance.describe().T"
   ]
  },
  {
   "cell_type": "code",
   "execution_count": null,
   "id": "2a1e2d3a-e65d-4442-a5f0-95ab0af118e9",
   "metadata": {},
   "outputs": [],
   "source": []
  },
  {
   "cell_type": "code",
   "execution_count": 11,
   "id": "d277dfec-c54c-46d2-ac91-6a8392a85c13",
   "metadata": {
    "tags": []
   },
   "outputs": [
    {
     "data": {
      "text/html": [
       "<div>\n",
       "<style scoped>\n",
       "    .dataframe tbody tr th:only-of-type {\n",
       "        vertical-align: middle;\n",
       "    }\n",
       "\n",
       "    .dataframe tbody tr th {\n",
       "        vertical-align: top;\n",
       "    }\n",
       "\n",
       "    .dataframe thead th {\n",
       "        text-align: right;\n",
       "    }\n",
       "</style>\n",
       "<table border=\"1\" class=\"dataframe\">\n",
       "  <thead>\n",
       "    <tr style=\"text-align: right;\">\n",
       "      <th></th>\n",
       "      <th>count</th>\n",
       "      <th>unique</th>\n",
       "      <th>top</th>\n",
       "      <th>freq</th>\n",
       "      <th>mean</th>\n",
       "      <th>std</th>\n",
       "      <th>min</th>\n",
       "      <th>25%</th>\n",
       "      <th>50%</th>\n",
       "      <th>75%</th>\n",
       "      <th>max</th>\n",
       "    </tr>\n",
       "  </thead>\n",
       "  <tbody>\n",
       "    <tr>\n",
       "      <th>cod_cust_id</th>\n",
       "      <td>10296.0</td>\n",
       "      <td>NaN</td>\n",
       "      <td>NaN</td>\n",
       "      <td>NaN</td>\n",
       "      <td>5148.5</td>\n",
       "      <td>2972.34352</td>\n",
       "      <td>1.0</td>\n",
       "      <td>2574.75</td>\n",
       "      <td>5148.5</td>\n",
       "      <td>7722.25</td>\n",
       "      <td>10296.0</td>\n",
       "    </tr>\n",
       "    <tr>\n",
       "      <th>dt_fpy</th>\n",
       "      <td>10266.0</td>\n",
       "      <td>NaN</td>\n",
       "      <td>NaN</td>\n",
       "      <td>NaN</td>\n",
       "      <td>1991.062634</td>\n",
       "      <td>511.267913</td>\n",
       "      <td>1974.0</td>\n",
       "      <td>1980.0</td>\n",
       "      <td>1986.0</td>\n",
       "      <td>1992.0</td>\n",
       "      <td>53784.0</td>\n",
       "    </tr>\n",
       "    <tr>\n",
       "      <th>atr_cust_age</th>\n",
       "      <td>10279.0</td>\n",
       "      <td>NaN</td>\n",
       "      <td>NaN</td>\n",
       "      <td>NaN</td>\n",
       "      <td>47.992217</td>\n",
       "      <td>19.709476</td>\n",
       "      <td>15.0</td>\n",
       "      <td>33.0</td>\n",
       "      <td>48.0</td>\n",
       "      <td>63.0</td>\n",
       "      <td>988.0</td>\n",
       "    </tr>\n",
       "    <tr>\n",
       "      <th>dsc_edu_deg</th>\n",
       "      <td>10279</td>\n",
       "      <td>4</td>\n",
       "      <td>3 - BSc/MSc</td>\n",
       "      <td>4799</td>\n",
       "      <td>NaN</td>\n",
       "      <td>NaN</td>\n",
       "      <td>NaN</td>\n",
       "      <td>NaN</td>\n",
       "      <td>NaN</td>\n",
       "      <td>NaN</td>\n",
       "      <td>NaN</td>\n",
       "    </tr>\n",
       "    <tr>\n",
       "      <th>amt_gms</th>\n",
       "      <td>10260.0</td>\n",
       "      <td>NaN</td>\n",
       "      <td>NaN</td>\n",
       "      <td>NaN</td>\n",
       "      <td>5012.838557</td>\n",
       "      <td>2314.900605</td>\n",
       "      <td>665.0</td>\n",
       "      <td>3411.0</td>\n",
       "      <td>5002.5</td>\n",
       "      <td>6580.25</td>\n",
       "      <td>110429.76</td>\n",
       "    </tr>\n",
       "    <tr>\n",
       "      <th>atr_gla</th>\n",
       "      <td>10295.0</td>\n",
       "      <td>NaN</td>\n",
       "      <td>NaN</td>\n",
       "      <td>NaN</td>\n",
       "      <td>2.709859</td>\n",
       "      <td>1.266291</td>\n",
       "      <td>1.0</td>\n",
       "      <td>1.0</td>\n",
       "      <td>3.0</td>\n",
       "      <td>4.0</td>\n",
       "      <td>4.0</td>\n",
       "    </tr>\n",
       "    <tr>\n",
       "      <th>flg_childen</th>\n",
       "      <td>10275.0</td>\n",
       "      <td>NaN</td>\n",
       "      <td>NaN</td>\n",
       "      <td>NaN</td>\n",
       "      <td>0.706764</td>\n",
       "      <td>0.455268</td>\n",
       "      <td>0.0</td>\n",
       "      <td>0.0</td>\n",
       "      <td>1.0</td>\n",
       "      <td>1.0</td>\n",
       "      <td>1.0</td>\n",
       "    </tr>\n",
       "    <tr>\n",
       "      <th>amt_cmv</th>\n",
       "      <td>10296.0</td>\n",
       "      <td>NaN</td>\n",
       "      <td>NaN</td>\n",
       "      <td>NaN</td>\n",
       "      <td>177.892604</td>\n",
       "      <td>1945.811545</td>\n",
       "      <td>-165680.424</td>\n",
       "      <td>-9.44</td>\n",
       "      <td>186.87</td>\n",
       "      <td>399.7775</td>\n",
       "      <td>11875.89</td>\n",
       "    </tr>\n",
       "    <tr>\n",
       "      <th>rt_cr</th>\n",
       "      <td>10296.0</td>\n",
       "      <td>NaN</td>\n",
       "      <td>NaN</td>\n",
       "      <td>NaN</td>\n",
       "      <td>0.742785</td>\n",
       "      <td>2.916957</td>\n",
       "      <td>0.0</td>\n",
       "      <td>0.392437</td>\n",
       "      <td>0.720657</td>\n",
       "      <td>0.976811</td>\n",
       "      <td>256.2</td>\n",
       "    </tr>\n",
       "    <tr>\n",
       "      <th>amt_plob_motor</th>\n",
       "      <td>10262.0</td>\n",
       "      <td>NaN</td>\n",
       "      <td>NaN</td>\n",
       "      <td>NaN</td>\n",
       "      <td>300.470252</td>\n",
       "      <td>211.914997</td>\n",
       "      <td>-4.11</td>\n",
       "      <td>190.59</td>\n",
       "      <td>298.61</td>\n",
       "      <td>408.3</td>\n",
       "      <td>11604.42</td>\n",
       "    </tr>\n",
       "    <tr>\n",
       "      <th>amt_plob_household</th>\n",
       "      <td>10296.0</td>\n",
       "      <td>NaN</td>\n",
       "      <td>NaN</td>\n",
       "      <td>NaN</td>\n",
       "      <td>210.431192</td>\n",
       "      <td>352.595984</td>\n",
       "      <td>-75.0</td>\n",
       "      <td>49.45</td>\n",
       "      <td>132.8</td>\n",
       "      <td>290.05</td>\n",
       "      <td>25048.8</td>\n",
       "    </tr>\n",
       "    <tr>\n",
       "      <th>amt_plob_health</th>\n",
       "      <td>10253.0</td>\n",
       "      <td>NaN</td>\n",
       "      <td>NaN</td>\n",
       "      <td>NaN</td>\n",
       "      <td>171.580833</td>\n",
       "      <td>296.405976</td>\n",
       "      <td>-2.11</td>\n",
       "      <td>111.8</td>\n",
       "      <td>162.81</td>\n",
       "      <td>219.82</td>\n",
       "      <td>28272.0</td>\n",
       "    </tr>\n",
       "    <tr>\n",
       "      <th>amt_plob_life</th>\n",
       "      <td>10192.0</td>\n",
       "      <td>NaN</td>\n",
       "      <td>NaN</td>\n",
       "      <td>NaN</td>\n",
       "      <td>41.855782</td>\n",
       "      <td>47.480632</td>\n",
       "      <td>-7.0</td>\n",
       "      <td>9.89</td>\n",
       "      <td>25.56</td>\n",
       "      <td>57.79</td>\n",
       "      <td>398.3</td>\n",
       "    </tr>\n",
       "    <tr>\n",
       "      <th>amt_plob_wcomp</th>\n",
       "      <td>10210.0</td>\n",
       "      <td>NaN</td>\n",
       "      <td>NaN</td>\n",
       "      <td>NaN</td>\n",
       "      <td>41.277514</td>\n",
       "      <td>51.513572</td>\n",
       "      <td>-12.0</td>\n",
       "      <td>10.67</td>\n",
       "      <td>25.67</td>\n",
       "      <td>56.79</td>\n",
       "      <td>1988.7</td>\n",
       "    </tr>\n",
       "  </tbody>\n",
       "</table>\n",
       "</div>"
      ],
      "text/plain": [
       "                      count unique          top  freq         mean  \\\n",
       "cod_cust_id         10296.0    NaN          NaN   NaN       5148.5   \n",
       "dt_fpy              10266.0    NaN          NaN   NaN  1991.062634   \n",
       "atr_cust_age        10279.0    NaN          NaN   NaN    47.992217   \n",
       "dsc_edu_deg           10279      4  3 - BSc/MSc  4799          NaN   \n",
       "amt_gms             10260.0    NaN          NaN   NaN  5012.838557   \n",
       "atr_gla             10295.0    NaN          NaN   NaN     2.709859   \n",
       "flg_childen         10275.0    NaN          NaN   NaN     0.706764   \n",
       "amt_cmv             10296.0    NaN          NaN   NaN   177.892604   \n",
       "rt_cr               10296.0    NaN          NaN   NaN     0.742785   \n",
       "amt_plob_motor      10262.0    NaN          NaN   NaN   300.470252   \n",
       "amt_plob_household  10296.0    NaN          NaN   NaN   210.431192   \n",
       "amt_plob_health     10253.0    NaN          NaN   NaN   171.580833   \n",
       "amt_plob_life       10192.0    NaN          NaN   NaN    41.855782   \n",
       "amt_plob_wcomp      10210.0    NaN          NaN   NaN    41.277514   \n",
       "\n",
       "                            std         min       25%       50%       75%  \\\n",
       "cod_cust_id          2972.34352         1.0   2574.75    5148.5   7722.25   \n",
       "dt_fpy               511.267913      1974.0    1980.0    1986.0    1992.0   \n",
       "atr_cust_age          19.709476        15.0      33.0      48.0      63.0   \n",
       "dsc_edu_deg                 NaN         NaN       NaN       NaN       NaN   \n",
       "amt_gms             2314.900605       665.0    3411.0    5002.5   6580.25   \n",
       "atr_gla                1.266291         1.0       1.0       3.0       4.0   \n",
       "flg_childen            0.455268         0.0       0.0       1.0       1.0   \n",
       "amt_cmv             1945.811545 -165680.424     -9.44    186.87  399.7775   \n",
       "rt_cr                  2.916957         0.0  0.392437  0.720657  0.976811   \n",
       "amt_plob_motor       211.914997       -4.11    190.59    298.61     408.3   \n",
       "amt_plob_household   352.595984       -75.0     49.45     132.8    290.05   \n",
       "amt_plob_health      296.405976       -2.11     111.8    162.81    219.82   \n",
       "amt_plob_life         47.480632        -7.0      9.89     25.56     57.79   \n",
       "amt_plob_wcomp        51.513572       -12.0     10.67     25.67     56.79   \n",
       "\n",
       "                          max  \n",
       "cod_cust_id           10296.0  \n",
       "dt_fpy                53784.0  \n",
       "atr_cust_age            988.0  \n",
       "dsc_edu_deg               NaN  \n",
       "amt_gms             110429.76  \n",
       "atr_gla                   4.0  \n",
       "flg_childen               1.0  \n",
       "amt_cmv              11875.89  \n",
       "rt_cr                   256.2  \n",
       "amt_plob_motor       11604.42  \n",
       "amt_plob_household    25048.8  \n",
       "amt_plob_health       28272.0  \n",
       "amt_plob_life           398.3  \n",
       "amt_plob_wcomp         1988.7  "
      ]
     },
     "execution_count": 11,
     "metadata": {},
     "output_type": "execute_result"
    }
   ],
   "source": [
    "# Estatísticas Colunas (1)\n",
    "dfInsurance.describe(include='all').T"
   ]
  },
  {
   "cell_type": "code",
   "execution_count": 12,
   "id": "ec47081a-31e7-4fd9-a246-db27c079d04f",
   "metadata": {},
   "outputs": [],
   "source": [
    "cat_3 = dfInsurance.loc[dfInsurance['dsc_edu_deg'] == '3 - BSc/MSc']"
   ]
  },
  {
   "cell_type": "code",
   "execution_count": 13,
   "id": "f03612b7-3d54-411f-9466-6cf1899afb4e",
   "metadata": {},
   "outputs": [
    {
     "data": {
      "text/plain": [
       "0"
      ]
     },
     "execution_count": 13,
     "metadata": {},
     "output_type": "execute_result"
    }
   ],
   "source": [
    "# Duplicados a alto nível\n",
    "dfInsurance.duplicated().sum()"
   ]
  },
  {
   "cell_type": "markdown",
   "id": "8fa0fe81-bfc0-41ca-8947-72eed9d67abb",
   "metadata": {},
   "source": [
    "### Premium LOB's - Missing data\n",
    "\n",
    "Missings:  \n",
    "Premiums in LOB: Motor                  13 (34 total)   \n",
    "Premiums in LOB: Household               0   \n",
    "Premiums in LOB: Health                 14 (43 total)   \n",
    "Premiums in LOB:  Life                 104   \n",
    "Premiums in LOB: Work Compensations     12 (86 total)  "
   ]
  },
  {
   "cell_type": "code",
   "execution_count": 14,
   "id": "84a65627-e208-477b-b47f-a592666aa1d3",
   "metadata": {},
   "outputs": [],
   "source": [
    "LOB_LIFE_NULLS = dfInsurance.loc[dfInsurance['amt_plob_life'].isnull()]"
   ]
  },
  {
   "cell_type": "code",
   "execution_count": 15,
   "id": "a3c113ad-84dd-40db-84e0-d29e23f357c1",
   "metadata": {},
   "outputs": [
    {
     "data": {
      "text/plain": [
       "cod_cust_id             0\n",
       "dt_fpy                  0\n",
       "atr_cust_age            0\n",
       "dsc_edu_deg             0\n",
       "amt_gms                 1\n",
       "atr_gla                 0\n",
       "flg_childen             0\n",
       "amt_cmv                 0\n",
       "rt_cr                   0\n",
       "amt_plob_motor         13\n",
       "amt_plob_household      0\n",
       "amt_plob_health        14\n",
       "amt_plob_life         104\n",
       "amt_plob_wcomp         12\n",
       "dtype: int64"
      ]
     },
     "execution_count": 15,
     "metadata": {},
     "output_type": "execute_result"
    }
   ],
   "source": [
    "LOB_LIFE_NULLS.isnull().sum()"
   ]
  },
  {
   "cell_type": "code",
   "execution_count": 16,
   "id": "f5f5d817-759f-42af-a821-6e11ed69c1a0",
   "metadata": {},
   "outputs": [
    {
     "data": {
      "text/html": [
       "<div>\n",
       "<style scoped>\n",
       "    .dataframe tbody tr th:only-of-type {\n",
       "        vertical-align: middle;\n",
       "    }\n",
       "\n",
       "    .dataframe tbody tr th {\n",
       "        vertical-align: top;\n",
       "    }\n",
       "\n",
       "    .dataframe thead th {\n",
       "        text-align: right;\n",
       "    }\n",
       "</style>\n",
       "<table border=\"1\" class=\"dataframe\">\n",
       "  <thead>\n",
       "    <tr style=\"text-align: right;\">\n",
       "      <th></th>\n",
       "      <th>cod_cust_id</th>\n",
       "      <th>dt_fpy</th>\n",
       "      <th>atr_cust_age</th>\n",
       "      <th>amt_gms</th>\n",
       "      <th>atr_gla</th>\n",
       "      <th>flg_childen</th>\n",
       "      <th>amt_cmv</th>\n",
       "      <th>rt_cr</th>\n",
       "      <th>amt_plob_motor</th>\n",
       "      <th>amt_plob_household</th>\n",
       "      <th>amt_plob_health</th>\n",
       "      <th>amt_plob_life</th>\n",
       "      <th>amt_plob_wcomp</th>\n",
       "    </tr>\n",
       "  </thead>\n",
       "  <tbody>\n",
       "    <tr>\n",
       "      <th>count</th>\n",
       "      <td>104.000000</td>\n",
       "      <td>104.000000</td>\n",
       "      <td>104.000000</td>\n",
       "      <td>103.000000</td>\n",
       "      <td>104.000000</td>\n",
       "      <td>104.000000</td>\n",
       "      <td>104.000000</td>\n",
       "      <td>104.000000</td>\n",
       "      <td>91.000000</td>\n",
       "      <td>104.000000</td>\n",
       "      <td>90.000000</td>\n",
       "      <td>0.0</td>\n",
       "      <td>92.000000</td>\n",
       "    </tr>\n",
       "    <tr>\n",
       "      <th>mean</th>\n",
       "      <td>5155.615385</td>\n",
       "      <td>1985.961538</td>\n",
       "      <td>49.923077</td>\n",
       "      <td>5157.067961</td>\n",
       "      <td>2.548077</td>\n",
       "      <td>0.730769</td>\n",
       "      <td>165.425000</td>\n",
       "      <td>0.599319</td>\n",
       "      <td>410.724505</td>\n",
       "      <td>73.636538</td>\n",
       "      <td>128.888667</td>\n",
       "      <td>NaN</td>\n",
       "      <td>23.457174</td>\n",
       "    </tr>\n",
       "    <tr>\n",
       "      <th>std</th>\n",
       "      <td>2823.759603</td>\n",
       "      <td>7.037932</td>\n",
       "      <td>13.915621</td>\n",
       "      <td>1577.002544</td>\n",
       "      <td>1.229727</td>\n",
       "      <td>0.445708</td>\n",
       "      <td>253.744105</td>\n",
       "      <td>0.423286</td>\n",
       "      <td>123.952698</td>\n",
       "      <td>145.871322</td>\n",
       "      <td>78.684998</td>\n",
       "      <td>NaN</td>\n",
       "      <td>38.680801</td>\n",
       "    </tr>\n",
       "    <tr>\n",
       "      <th>min</th>\n",
       "      <td>69.000000</td>\n",
       "      <td>1974.000000</td>\n",
       "      <td>19.000000</td>\n",
       "      <td>2028.000000</td>\n",
       "      <td>1.000000</td>\n",
       "      <td>0.000000</td>\n",
       "      <td>-187.000000</td>\n",
       "      <td>0.000000</td>\n",
       "      <td>35.340000</td>\n",
       "      <td>-75.000000</td>\n",
       "      <td>15.670000</td>\n",
       "      <td>NaN</td>\n",
       "      <td>-12.000000</td>\n",
       "    </tr>\n",
       "    <tr>\n",
       "      <th>25%</th>\n",
       "      <td>2927.750000</td>\n",
       "      <td>1980.000000</td>\n",
       "      <td>38.000000</td>\n",
       "      <td>3827.000000</td>\n",
       "      <td>1.000000</td>\n",
       "      <td>0.000000</td>\n",
       "      <td>-25.302500</td>\n",
       "      <td>0.147406</td>\n",
       "      <td>334.730000</td>\n",
       "      <td>0.000000</td>\n",
       "      <td>61.010000</td>\n",
       "      <td>NaN</td>\n",
       "      <td>3.862500</td>\n",
       "    </tr>\n",
       "    <tr>\n",
       "      <th>50%</th>\n",
       "      <td>5088.500000</td>\n",
       "      <td>1986.000000</td>\n",
       "      <td>51.500000</td>\n",
       "      <td>5102.000000</td>\n",
       "      <td>3.000000</td>\n",
       "      <td>1.000000</td>\n",
       "      <td>18.675000</td>\n",
       "      <td>0.693134</td>\n",
       "      <td>434.080000</td>\n",
       "      <td>38.900000</td>\n",
       "      <td>119.300000</td>\n",
       "      <td>NaN</td>\n",
       "      <td>12.445000</td>\n",
       "    </tr>\n",
       "    <tr>\n",
       "      <th>75%</th>\n",
       "      <td>7281.250000</td>\n",
       "      <td>1992.000000</td>\n",
       "      <td>60.250000</td>\n",
       "      <td>6385.500000</td>\n",
       "      <td>4.000000</td>\n",
       "      <td>1.000000</td>\n",
       "      <td>411.867500</td>\n",
       "      <td>1.000526</td>\n",
       "      <td>510.430000</td>\n",
       "      <td>93.625000</td>\n",
       "      <td>197.177500</td>\n",
       "      <td>NaN</td>\n",
       "      <td>27.560000</td>\n",
       "    </tr>\n",
       "    <tr>\n",
       "      <th>max</th>\n",
       "      <td>10143.000000</td>\n",
       "      <td>1998.000000</td>\n",
       "      <td>79.000000</td>\n",
       "      <td>8970.000000</td>\n",
       "      <td>4.000000</td>\n",
       "      <td>1.000000</td>\n",
       "      <td>1000.750000</td>\n",
       "      <td>1.312139</td>\n",
       "      <td>562.440000</td>\n",
       "      <td>1015.750000</td>\n",
       "      <td>338.730000</td>\n",
       "      <td>NaN</td>\n",
       "      <td>313.950000</td>\n",
       "    </tr>\n",
       "  </tbody>\n",
       "</table>\n",
       "</div>"
      ],
      "text/plain": [
       "        cod_cust_id       dt_fpy  atr_cust_age      amt_gms     atr_gla  \\\n",
       "count    104.000000   104.000000    104.000000   103.000000  104.000000   \n",
       "mean    5155.615385  1985.961538     49.923077  5157.067961    2.548077   \n",
       "std     2823.759603     7.037932     13.915621  1577.002544    1.229727   \n",
       "min       69.000000  1974.000000     19.000000  2028.000000    1.000000   \n",
       "25%     2927.750000  1980.000000     38.000000  3827.000000    1.000000   \n",
       "50%     5088.500000  1986.000000     51.500000  5102.000000    3.000000   \n",
       "75%     7281.250000  1992.000000     60.250000  6385.500000    4.000000   \n",
       "max    10143.000000  1998.000000     79.000000  8970.000000    4.000000   \n",
       "\n",
       "       flg_childen      amt_cmv       rt_cr  amt_plob_motor  \\\n",
       "count   104.000000   104.000000  104.000000       91.000000   \n",
       "mean      0.730769   165.425000    0.599319      410.724505   \n",
       "std       0.445708   253.744105    0.423286      123.952698   \n",
       "min       0.000000  -187.000000    0.000000       35.340000   \n",
       "25%       0.000000   -25.302500    0.147406      334.730000   \n",
       "50%       1.000000    18.675000    0.693134      434.080000   \n",
       "75%       1.000000   411.867500    1.000526      510.430000   \n",
       "max       1.000000  1000.750000    1.312139      562.440000   \n",
       "\n",
       "       amt_plob_household  amt_plob_health  amt_plob_life  amt_plob_wcomp  \n",
       "count          104.000000        90.000000            0.0       92.000000  \n",
       "mean            73.636538       128.888667            NaN       23.457174  \n",
       "std            145.871322        78.684998            NaN       38.680801  \n",
       "min            -75.000000        15.670000            NaN      -12.000000  \n",
       "25%              0.000000        61.010000            NaN        3.862500  \n",
       "50%             38.900000       119.300000            NaN       12.445000  \n",
       "75%             93.625000       197.177500            NaN       27.560000  \n",
       "max           1015.750000       338.730000            NaN      313.950000  "
      ]
     },
     "execution_count": 16,
     "metadata": {},
     "output_type": "execute_result"
    }
   ],
   "source": [
    "LOB_LIFE_NULLS.describe()"
   ]
  },
  {
   "cell_type": "markdown",
   "id": "3e6e9766-4a2b-4a01-984f-b8ba14e451af",
   "metadata": {},
   "source": [
    "### Outliers - CMV & Claims Rate & Custumer Age & FPY"
   ]
  },
  {
   "cell_type": "code",
   "execution_count": 17,
   "id": "df840c3f-c72f-4da5-bf59-ef6e594324b6",
   "metadata": {},
   "outputs": [],
   "source": [
    "OUT_CMV = dfInsurance.loc[dfInsurance['amt_cmv'] < -160000]"
   ]
  },
  {
   "cell_type": "code",
   "execution_count": 18,
   "id": "4d2f80ac-74c6-4d0c-bb3c-308e6a9f2332",
   "metadata": {},
   "outputs": [
    {
     "data": {
      "text/html": [
       "<div>\n",
       "<style scoped>\n",
       "    .dataframe tbody tr th:only-of-type {\n",
       "        vertical-align: middle;\n",
       "    }\n",
       "\n",
       "    .dataframe tbody tr th {\n",
       "        vertical-align: top;\n",
       "    }\n",
       "\n",
       "    .dataframe thead th {\n",
       "        text-align: right;\n",
       "    }\n",
       "</style>\n",
       "<table border=\"1\" class=\"dataframe\">\n",
       "  <thead>\n",
       "    <tr style=\"text-align: right;\">\n",
       "      <th></th>\n",
       "      <th>cod_cust_id</th>\n",
       "      <th>dt_fpy</th>\n",
       "      <th>atr_cust_age</th>\n",
       "      <th>dsc_edu_deg</th>\n",
       "      <th>amt_gms</th>\n",
       "      <th>atr_gla</th>\n",
       "      <th>flg_childen</th>\n",
       "      <th>amt_cmv</th>\n",
       "      <th>rt_cr</th>\n",
       "      <th>amt_plob_motor</th>\n",
       "      <th>amt_plob_household</th>\n",
       "      <th>amt_plob_health</th>\n",
       "      <th>amt_plob_life</th>\n",
       "      <th>amt_plob_wcomp</th>\n",
       "    </tr>\n",
       "  </thead>\n",
       "  <tbody>\n",
       "    <tr>\n",
       "      <th>171</th>\n",
       "      <td>172</td>\n",
       "      <td>1990.0</td>\n",
       "      <td>27.0</td>\n",
       "      <td>3 - BSc/MSc</td>\n",
       "      <td>2172.0</td>\n",
       "      <td>4.0</td>\n",
       "      <td>1.0</td>\n",
       "      <td>-165680.424</td>\n",
       "      <td>256.2</td>\n",
       "      <td>378.07</td>\n",
       "      <td>78.9</td>\n",
       "      <td>166.81</td>\n",
       "      <td>6.89</td>\n",
       "      <td>18.45</td>\n",
       "    </tr>\n",
       "  </tbody>\n",
       "</table>\n",
       "</div>"
      ],
      "text/plain": [
       "     cod_cust_id  dt_fpy  atr_cust_age  dsc_edu_deg  amt_gms  atr_gla  \\\n",
       "171          172  1990.0          27.0  3 - BSc/MSc   2172.0      4.0   \n",
       "\n",
       "     flg_childen     amt_cmv  rt_cr  amt_plob_motor  amt_plob_household  \\\n",
       "171          1.0 -165680.424  256.2          378.07                78.9   \n",
       "\n",
       "     amt_plob_health  amt_plob_life  amt_plob_wcomp  \n",
       "171           166.81           6.89           18.45  "
      ]
     },
     "execution_count": 18,
     "metadata": {},
     "output_type": "execute_result"
    }
   ],
   "source": [
    "OUT_CMV"
   ]
  },
  {
   "cell_type": "code",
   "execution_count": 19,
   "id": "f5ca4b83-3cac-4002-875d-4e15b2876f75",
   "metadata": {},
   "outputs": [
    {
     "data": {
      "text/html": [
       "<div>\n",
       "<style scoped>\n",
       "    .dataframe tbody tr th:only-of-type {\n",
       "        vertical-align: middle;\n",
       "    }\n",
       "\n",
       "    .dataframe tbody tr th {\n",
       "        vertical-align: top;\n",
       "    }\n",
       "\n",
       "    .dataframe thead th {\n",
       "        text-align: right;\n",
       "    }\n",
       "</style>\n",
       "<table border=\"1\" class=\"dataframe\">\n",
       "  <thead>\n",
       "    <tr style=\"text-align: right;\">\n",
       "      <th></th>\n",
       "      <th>cod_cust_id</th>\n",
       "      <th>dt_fpy</th>\n",
       "      <th>atr_cust_age</th>\n",
       "      <th>dsc_edu_deg</th>\n",
       "      <th>amt_gms</th>\n",
       "      <th>atr_gla</th>\n",
       "      <th>flg_childen</th>\n",
       "      <th>amt_cmv</th>\n",
       "      <th>rt_cr</th>\n",
       "      <th>amt_plob_motor</th>\n",
       "      <th>amt_plob_household</th>\n",
       "      <th>amt_plob_health</th>\n",
       "      <th>amt_plob_life</th>\n",
       "      <th>amt_plob_wcomp</th>\n",
       "    </tr>\n",
       "  </thead>\n",
       "  <tbody>\n",
       "    <tr>\n",
       "      <th>7195</th>\n",
       "      <td>7196</td>\n",
       "      <td>1993.0</td>\n",
       "      <td>988.0</td>\n",
       "      <td>3 - BSc/MSc</td>\n",
       "      <td>5659.0</td>\n",
       "      <td>4.0</td>\n",
       "      <td>0.0</td>\n",
       "      <td>146.02</td>\n",
       "      <td>0.773855</td>\n",
       "      <td>428.97</td>\n",
       "      <td>192.8</td>\n",
       "      <td>108.91</td>\n",
       "      <td>1.89</td>\n",
       "      <td>23.67</td>\n",
       "    </tr>\n",
       "  </tbody>\n",
       "</table>\n",
       "</div>"
      ],
      "text/plain": [
       "      cod_cust_id  dt_fpy  atr_cust_age  dsc_edu_deg  amt_gms  atr_gla  \\\n",
       "7195         7196  1993.0         988.0  3 - BSc/MSc   5659.0      4.0   \n",
       "\n",
       "      flg_childen  amt_cmv     rt_cr  amt_plob_motor  amt_plob_household  \\\n",
       "7195          0.0   146.02  0.773855          428.97               192.8   \n",
       "\n",
       "      amt_plob_health  amt_plob_life  amt_plob_wcomp  \n",
       "7195           108.91           1.89           23.67  "
      ]
     },
     "execution_count": 19,
     "metadata": {},
     "output_type": "execute_result"
    }
   ],
   "source": [
    "OUT_CustAge = dfInsurance.loc[dfInsurance['atr_cust_age'] > 100]\n",
    "OUT_CustAge\n",
    "# 2 Alternativas: Remover ou Trocar pela média/mediana de idades."
   ]
  },
  {
   "cell_type": "code",
   "execution_count": 20,
   "id": "696c79c7-3b35-4ade-b241-c5b4480b45db",
   "metadata": {},
   "outputs": [
    {
     "data": {
      "text/html": [
       "<div>\n",
       "<style scoped>\n",
       "    .dataframe tbody tr th:only-of-type {\n",
       "        vertical-align: middle;\n",
       "    }\n",
       "\n",
       "    .dataframe tbody tr th {\n",
       "        vertical-align: top;\n",
       "    }\n",
       "\n",
       "    .dataframe thead th {\n",
       "        text-align: right;\n",
       "    }\n",
       "</style>\n",
       "<table border=\"1\" class=\"dataframe\">\n",
       "  <thead>\n",
       "    <tr style=\"text-align: right;\">\n",
       "      <th></th>\n",
       "      <th>cod_cust_id</th>\n",
       "      <th>dt_fpy</th>\n",
       "      <th>atr_cust_age</th>\n",
       "      <th>dsc_edu_deg</th>\n",
       "      <th>amt_gms</th>\n",
       "      <th>atr_gla</th>\n",
       "      <th>flg_childen</th>\n",
       "      <th>amt_cmv</th>\n",
       "      <th>rt_cr</th>\n",
       "      <th>amt_plob_motor</th>\n",
       "      <th>amt_plob_household</th>\n",
       "      <th>amt_plob_health</th>\n",
       "      <th>amt_plob_life</th>\n",
       "      <th>amt_plob_wcomp</th>\n",
       "    </tr>\n",
       "  </thead>\n",
       "  <tbody>\n",
       "    <tr>\n",
       "      <th>9294</th>\n",
       "      <td>9295</td>\n",
       "      <td>53784.0</td>\n",
       "      <td>68.0</td>\n",
       "      <td>3 - BSc/MSc</td>\n",
       "      <td>6535.0</td>\n",
       "      <td>1.0</td>\n",
       "      <td>0.0</td>\n",
       "      <td>348.85</td>\n",
       "      <td>0.370623</td>\n",
       "      <td>351.4</td>\n",
       "      <td>15.0</td>\n",
       "      <td>187.37</td>\n",
       "      <td>22.45</td>\n",
       "      <td>17.78</td>\n",
       "    </tr>\n",
       "  </tbody>\n",
       "</table>\n",
       "</div>"
      ],
      "text/plain": [
       "      cod_cust_id   dt_fpy  atr_cust_age  dsc_edu_deg  amt_gms  atr_gla  \\\n",
       "9294         9295  53784.0          68.0  3 - BSc/MSc   6535.0      1.0   \n",
       "\n",
       "      flg_childen  amt_cmv     rt_cr  amt_plob_motor  amt_plob_household  \\\n",
       "9294          0.0   348.85  0.370623           351.4                15.0   \n",
       "\n",
       "      amt_plob_health  amt_plob_life  amt_plob_wcomp  \n",
       "9294           187.37          22.45           17.78  "
      ]
     },
     "execution_count": 20,
     "metadata": {},
     "output_type": "execute_result"
    }
   ],
   "source": [
    "OUT_FPY = dfInsurance.loc[dfInsurance['dt_fpy'] > 2022]\n",
    "OUT_FPY\n",
    "# 2 Alternativas: Remover ou Trocar pela média/mediana de idades."
   ]
  },
  {
   "cell_type": "markdown",
   "id": "62a6a5a1",
   "metadata": {},
   "source": [
    "# Filters\n",
    "\n",
    "## Impossible values \n",
    "\n",
    "We found at least two datapoints that have no conceptual sense.   \n",
    "One where the first policuy year is FAR into the future, and another where the customer age is simply impossible.  \n",
    "The first we filtered to no data above 2022, the second for no customer age above 100 years of age."
   ]
  },
  {
   "cell_type": "code",
   "execution_count": 21,
   "id": "91655d15-112d-46c3-8011-dd3236356119",
   "metadata": {},
   "outputs": [],
   "source": [
    "dfInsurance_old = dfInsurance.copy()"
   ]
  },
  {
   "cell_type": "code",
   "execution_count": 22,
   "id": "c51148a9-1026-4f7f-8e42-db74da75cf50",
   "metadata": {},
   "outputs": [],
   "source": [
    "dfInsurance = dfInsurance.loc[~((dfInsurance['dt_fpy'] > 2022) | \n",
    "                        (dfInsurance['atr_cust_age'] > 100))]"
   ]
  },
  {
   "cell_type": "code",
   "execution_count": 23,
   "id": "073ea84c-c102-45ab-a05d-811dce8243a1",
   "metadata": {},
   "outputs": [
    {
     "data": {
      "text/html": [
       "<div>\n",
       "<style scoped>\n",
       "    .dataframe tbody tr th:only-of-type {\n",
       "        vertical-align: middle;\n",
       "    }\n",
       "\n",
       "    .dataframe tbody tr th {\n",
       "        vertical-align: top;\n",
       "    }\n",
       "\n",
       "    .dataframe thead th {\n",
       "        text-align: right;\n",
       "    }\n",
       "</style>\n",
       "<table border=\"1\" class=\"dataframe\">\n",
       "  <thead>\n",
       "    <tr style=\"text-align: right;\">\n",
       "      <th></th>\n",
       "      <th>cod_cust_id</th>\n",
       "      <th>dt_fpy</th>\n",
       "      <th>atr_cust_age</th>\n",
       "      <th>dsc_edu_deg</th>\n",
       "      <th>amt_gms</th>\n",
       "      <th>atr_gla</th>\n",
       "      <th>flg_childen</th>\n",
       "      <th>amt_cmv</th>\n",
       "      <th>rt_cr</th>\n",
       "      <th>amt_plob_motor</th>\n",
       "      <th>amt_plob_household</th>\n",
       "      <th>amt_plob_health</th>\n",
       "      <th>amt_plob_life</th>\n",
       "      <th>amt_plob_wcomp</th>\n",
       "    </tr>\n",
       "  </thead>\n",
       "  <tbody>\n",
       "    <tr>\n",
       "      <th>0</th>\n",
       "      <td>1</td>\n",
       "      <td>1985.0</td>\n",
       "      <td>34.0</td>\n",
       "      <td>2 - High School</td>\n",
       "      <td>4354.0</td>\n",
       "      <td>1.0</td>\n",
       "      <td>1.0</td>\n",
       "      <td>380.97</td>\n",
       "      <td>0.390032</td>\n",
       "      <td>375.85</td>\n",
       "      <td>79.45</td>\n",
       "      <td>146.36</td>\n",
       "      <td>47.01</td>\n",
       "      <td>16.89</td>\n",
       "    </tr>\n",
       "    <tr>\n",
       "      <th>1</th>\n",
       "      <td>2</td>\n",
       "      <td>1981.0</td>\n",
       "      <td>21.0</td>\n",
       "      <td>2 - High School</td>\n",
       "      <td>1353.0</td>\n",
       "      <td>4.0</td>\n",
       "      <td>1.0</td>\n",
       "      <td>-131.13</td>\n",
       "      <td>1.116503</td>\n",
       "      <td>77.46</td>\n",
       "      <td>416.20</td>\n",
       "      <td>116.69</td>\n",
       "      <td>194.48</td>\n",
       "      <td>106.13</td>\n",
       "    </tr>\n",
       "    <tr>\n",
       "      <th>2</th>\n",
       "      <td>3</td>\n",
       "      <td>1991.0</td>\n",
       "      <td>46.0</td>\n",
       "      <td>1 - Basic</td>\n",
       "      <td>4554.0</td>\n",
       "      <td>3.0</td>\n",
       "      <td>0.0</td>\n",
       "      <td>504.67</td>\n",
       "      <td>0.284810</td>\n",
       "      <td>206.15</td>\n",
       "      <td>224.50</td>\n",
       "      <td>124.58</td>\n",
       "      <td>86.35</td>\n",
       "      <td>99.02</td>\n",
       "    </tr>\n",
       "    <tr>\n",
       "      <th>3</th>\n",
       "      <td>4</td>\n",
       "      <td>1990.0</td>\n",
       "      <td>35.0</td>\n",
       "      <td>3 - BSc/MSc</td>\n",
       "      <td>2197.0</td>\n",
       "      <td>4.0</td>\n",
       "      <td>1.0</td>\n",
       "      <td>-16.99</td>\n",
       "      <td>0.986665</td>\n",
       "      <td>182.48</td>\n",
       "      <td>43.35</td>\n",
       "      <td>311.17</td>\n",
       "      <td>35.34</td>\n",
       "      <td>28.34</td>\n",
       "    </tr>\n",
       "    <tr>\n",
       "      <th>4</th>\n",
       "      <td>5</td>\n",
       "      <td>1986.0</td>\n",
       "      <td>43.0</td>\n",
       "      <td>3 - BSc/MSc</td>\n",
       "      <td>3526.0</td>\n",
       "      <td>4.0</td>\n",
       "      <td>1.0</td>\n",
       "      <td>35.23</td>\n",
       "      <td>0.904281</td>\n",
       "      <td>338.62</td>\n",
       "      <td>47.80</td>\n",
       "      <td>182.59</td>\n",
       "      <td>18.78</td>\n",
       "      <td>41.45</td>\n",
       "    </tr>\n",
       "    <tr>\n",
       "      <th>...</th>\n",
       "      <td>...</td>\n",
       "      <td>...</td>\n",
       "      <td>...</td>\n",
       "      <td>...</td>\n",
       "      <td>...</td>\n",
       "      <td>...</td>\n",
       "      <td>...</td>\n",
       "      <td>...</td>\n",
       "      <td>...</td>\n",
       "      <td>...</td>\n",
       "      <td>...</td>\n",
       "      <td>...</td>\n",
       "      <td>...</td>\n",
       "      <td>...</td>\n",
       "    </tr>\n",
       "    <tr>\n",
       "      <th>10291</th>\n",
       "      <td>10292</td>\n",
       "      <td>1984.0</td>\n",
       "      <td>67.0</td>\n",
       "      <td>4 - PhD</td>\n",
       "      <td>6375.0</td>\n",
       "      <td>2.0</td>\n",
       "      <td>0.0</td>\n",
       "      <td>-0.11</td>\n",
       "      <td>0.961204</td>\n",
       "      <td>393.74</td>\n",
       "      <td>49.45</td>\n",
       "      <td>173.81</td>\n",
       "      <td>9.78</td>\n",
       "      <td>14.78</td>\n",
       "    </tr>\n",
       "    <tr>\n",
       "      <th>10292</th>\n",
       "      <td>10293</td>\n",
       "      <td>1977.0</td>\n",
       "      <td>64.0</td>\n",
       "      <td>1 - Basic</td>\n",
       "      <td>4862.0</td>\n",
       "      <td>3.0</td>\n",
       "      <td>0.0</td>\n",
       "      <td>1405.60</td>\n",
       "      <td>0.000000</td>\n",
       "      <td>133.58</td>\n",
       "      <td>1035.75</td>\n",
       "      <td>143.25</td>\n",
       "      <td>12.89</td>\n",
       "      <td>105.13</td>\n",
       "    </tr>\n",
       "    <tr>\n",
       "      <th>10293</th>\n",
       "      <td>10294</td>\n",
       "      <td>1994.0</td>\n",
       "      <td>40.0</td>\n",
       "      <td>3 - BSc/MSc</td>\n",
       "      <td>5835.0</td>\n",
       "      <td>1.0</td>\n",
       "      <td>1.0</td>\n",
       "      <td>524.10</td>\n",
       "      <td>0.211335</td>\n",
       "      <td>403.63</td>\n",
       "      <td>132.80</td>\n",
       "      <td>142.25</td>\n",
       "      <td>12.67</td>\n",
       "      <td>4.89</td>\n",
       "    </tr>\n",
       "    <tr>\n",
       "      <th>10294</th>\n",
       "      <td>10295</td>\n",
       "      <td>1981.0</td>\n",
       "      <td>39.0</td>\n",
       "      <td>1 - Basic</td>\n",
       "      <td>3941.0</td>\n",
       "      <td>2.0</td>\n",
       "      <td>1.0</td>\n",
       "      <td>250.05</td>\n",
       "      <td>0.645060</td>\n",
       "      <td>188.59</td>\n",
       "      <td>211.15</td>\n",
       "      <td>198.37</td>\n",
       "      <td>63.90</td>\n",
       "      <td>112.91</td>\n",
       "    </tr>\n",
       "    <tr>\n",
       "      <th>10295</th>\n",
       "      <td>10296</td>\n",
       "      <td>1990.0</td>\n",
       "      <td>35.0</td>\n",
       "      <td>4 - PhD</td>\n",
       "      <td>5630.0</td>\n",
       "      <td>1.0</td>\n",
       "      <td>1.0</td>\n",
       "      <td>463.75</td>\n",
       "      <td>0.270043</td>\n",
       "      <td>414.08</td>\n",
       "      <td>94.45</td>\n",
       "      <td>141.25</td>\n",
       "      <td>6.89</td>\n",
       "      <td>12.89</td>\n",
       "    </tr>\n",
       "  </tbody>\n",
       "</table>\n",
       "<p>10294 rows × 14 columns</p>\n",
       "</div>"
      ],
      "text/plain": [
       "       cod_cust_id  dt_fpy  atr_cust_age      dsc_edu_deg  amt_gms  atr_gla  \\\n",
       "0                1  1985.0          34.0  2 - High School   4354.0      1.0   \n",
       "1                2  1981.0          21.0  2 - High School   1353.0      4.0   \n",
       "2                3  1991.0          46.0        1 - Basic   4554.0      3.0   \n",
       "3                4  1990.0          35.0      3 - BSc/MSc   2197.0      4.0   \n",
       "4                5  1986.0          43.0      3 - BSc/MSc   3526.0      4.0   \n",
       "...            ...     ...           ...              ...      ...      ...   \n",
       "10291        10292  1984.0          67.0          4 - PhD   6375.0      2.0   \n",
       "10292        10293  1977.0          64.0        1 - Basic   4862.0      3.0   \n",
       "10293        10294  1994.0          40.0      3 - BSc/MSc   5835.0      1.0   \n",
       "10294        10295  1981.0          39.0        1 - Basic   3941.0      2.0   \n",
       "10295        10296  1990.0          35.0          4 - PhD   5630.0      1.0   \n",
       "\n",
       "       flg_childen  amt_cmv     rt_cr  amt_plob_motor  amt_plob_household  \\\n",
       "0              1.0   380.97  0.390032          375.85               79.45   \n",
       "1              1.0  -131.13  1.116503           77.46              416.20   \n",
       "2              0.0   504.67  0.284810          206.15              224.50   \n",
       "3              1.0   -16.99  0.986665          182.48               43.35   \n",
       "4              1.0    35.23  0.904281          338.62               47.80   \n",
       "...            ...      ...       ...             ...                 ...   \n",
       "10291          0.0    -0.11  0.961204          393.74               49.45   \n",
       "10292          0.0  1405.60  0.000000          133.58             1035.75   \n",
       "10293          1.0   524.10  0.211335          403.63              132.80   \n",
       "10294          1.0   250.05  0.645060          188.59              211.15   \n",
       "10295          1.0   463.75  0.270043          414.08               94.45   \n",
       "\n",
       "       amt_plob_health  amt_plob_life  amt_plob_wcomp  \n",
       "0               146.36          47.01           16.89  \n",
       "1               116.69         194.48          106.13  \n",
       "2               124.58          86.35           99.02  \n",
       "3               311.17          35.34           28.34  \n",
       "4               182.59          18.78           41.45  \n",
       "...                ...            ...             ...  \n",
       "10291           173.81           9.78           14.78  \n",
       "10292           143.25          12.89          105.13  \n",
       "10293           142.25          12.67            4.89  \n",
       "10294           198.37          63.90          112.91  \n",
       "10295           141.25           6.89           12.89  \n",
       "\n",
       "[10294 rows x 14 columns]"
      ]
     },
     "execution_count": 23,
     "metadata": {},
     "output_type": "execute_result"
    }
   ],
   "source": [
    "dfInsurance"
   ]
  },
  {
   "cell_type": "markdown",
   "id": "609b0204-394c-4a49-b20b-fb49e2da7dff",
   "metadata": {},
   "source": [
    "## Outliers \n",
    "\n",
    "[!] To verify CMV and CR outliers"
   ]
  },
  {
   "cell_type": "markdown",
   "id": "7f4a34e8-e71c-4783-898f-93317a3c1b62",
   "metadata": {},
   "source": [
    "# Transformations"
   ]
  },
  {
   "cell_type": "markdown",
   "id": "26e75e7a-64e7-47a3-82ef-85a3e1a609b3",
   "metadata": {},
   "source": [
    "## Educational Degree to Integer"
   ]
  },
  {
   "cell_type": "code",
   "execution_count": 24,
   "id": "59eacbe4-0090-449c-8c4b-3a14e642e24e",
   "metadata": {},
   "outputs": [],
   "source": [
    "dfInsurance['atr_edu_deg'] = dfInsurance['dsc_edu_deg'].map(lambda x: str(x)[0])"
   ]
  },
  {
   "cell_type": "markdown",
   "id": "2cf7451e-8815-4229-a83f-43256c5c8227",
   "metadata": {},
   "source": [
    "## Premium LOB's - Total"
   ]
  },
  {
   "cell_type": "code",
   "execution_count": 25,
   "id": "1c627e6e-6465-46ad-8b9d-0aba9de51faf",
   "metadata": {},
   "outputs": [],
   "source": [
    "# Total de premiums (LOBs)\n",
    "dfInsurance['amt_premium_total'] = (dfInsurance['amt_plob_life'] + dfInsurance['amt_plob_household'] + dfInsurance['amt_plob_motor'] + \n",
    "                                    dfInsurance['amt_plob_health']+ dfInsurance['amt_plob_wcomp'])"
   ]
  },
  {
   "cell_type": "code",
   "execution_count": 26,
   "id": "9e904bb8-069c-43b9-a56e-342c24dfaa5b",
   "metadata": {},
   "outputs": [
    {
     "data": {
      "text/html": [
       "<div>\n",
       "<style scoped>\n",
       "    .dataframe tbody tr th:only-of-type {\n",
       "        vertical-align: middle;\n",
       "    }\n",
       "\n",
       "    .dataframe tbody tr th {\n",
       "        vertical-align: top;\n",
       "    }\n",
       "\n",
       "    .dataframe thead th {\n",
       "        text-align: right;\n",
       "    }\n",
       "</style>\n",
       "<table border=\"1\" class=\"dataframe\">\n",
       "  <thead>\n",
       "    <tr style=\"text-align: right;\">\n",
       "      <th></th>\n",
       "      <th>cod_cust_id</th>\n",
       "      <th>dt_fpy</th>\n",
       "      <th>atr_cust_age</th>\n",
       "      <th>dsc_edu_deg</th>\n",
       "      <th>amt_gms</th>\n",
       "      <th>atr_gla</th>\n",
       "      <th>flg_childen</th>\n",
       "      <th>amt_cmv</th>\n",
       "      <th>rt_cr</th>\n",
       "      <th>amt_plob_motor</th>\n",
       "      <th>amt_plob_household</th>\n",
       "      <th>amt_plob_health</th>\n",
       "      <th>amt_plob_life</th>\n",
       "      <th>amt_plob_wcomp</th>\n",
       "      <th>atr_edu_deg</th>\n",
       "      <th>amt_premium_total</th>\n",
       "    </tr>\n",
       "  </thead>\n",
       "  <tbody>\n",
       "    <tr>\n",
       "      <th>0</th>\n",
       "      <td>1</td>\n",
       "      <td>1985.0</td>\n",
       "      <td>34.0</td>\n",
       "      <td>2 - High School</td>\n",
       "      <td>4354.0</td>\n",
       "      <td>1.0</td>\n",
       "      <td>1.0</td>\n",
       "      <td>380.97</td>\n",
       "      <td>0.390032</td>\n",
       "      <td>375.85</td>\n",
       "      <td>79.45</td>\n",
       "      <td>146.36</td>\n",
       "      <td>47.01</td>\n",
       "      <td>16.89</td>\n",
       "      <td>2</td>\n",
       "      <td>665.56</td>\n",
       "    </tr>\n",
       "    <tr>\n",
       "      <th>1</th>\n",
       "      <td>2</td>\n",
       "      <td>1981.0</td>\n",
       "      <td>21.0</td>\n",
       "      <td>2 - High School</td>\n",
       "      <td>1353.0</td>\n",
       "      <td>4.0</td>\n",
       "      <td>1.0</td>\n",
       "      <td>-131.13</td>\n",
       "      <td>1.116503</td>\n",
       "      <td>77.46</td>\n",
       "      <td>416.20</td>\n",
       "      <td>116.69</td>\n",
       "      <td>194.48</td>\n",
       "      <td>106.13</td>\n",
       "      <td>2</td>\n",
       "      <td>910.96</td>\n",
       "    </tr>\n",
       "    <tr>\n",
       "      <th>2</th>\n",
       "      <td>3</td>\n",
       "      <td>1991.0</td>\n",
       "      <td>46.0</td>\n",
       "      <td>1 - Basic</td>\n",
       "      <td>4554.0</td>\n",
       "      <td>3.0</td>\n",
       "      <td>0.0</td>\n",
       "      <td>504.67</td>\n",
       "      <td>0.284810</td>\n",
       "      <td>206.15</td>\n",
       "      <td>224.50</td>\n",
       "      <td>124.58</td>\n",
       "      <td>86.35</td>\n",
       "      <td>99.02</td>\n",
       "      <td>1</td>\n",
       "      <td>740.60</td>\n",
       "    </tr>\n",
       "    <tr>\n",
       "      <th>3</th>\n",
       "      <td>4</td>\n",
       "      <td>1990.0</td>\n",
       "      <td>35.0</td>\n",
       "      <td>3 - BSc/MSc</td>\n",
       "      <td>2197.0</td>\n",
       "      <td>4.0</td>\n",
       "      <td>1.0</td>\n",
       "      <td>-16.99</td>\n",
       "      <td>0.986665</td>\n",
       "      <td>182.48</td>\n",
       "      <td>43.35</td>\n",
       "      <td>311.17</td>\n",
       "      <td>35.34</td>\n",
       "      <td>28.34</td>\n",
       "      <td>3</td>\n",
       "      <td>600.68</td>\n",
       "    </tr>\n",
       "    <tr>\n",
       "      <th>4</th>\n",
       "      <td>5</td>\n",
       "      <td>1986.0</td>\n",
       "      <td>43.0</td>\n",
       "      <td>3 - BSc/MSc</td>\n",
       "      <td>3526.0</td>\n",
       "      <td>4.0</td>\n",
       "      <td>1.0</td>\n",
       "      <td>35.23</td>\n",
       "      <td>0.904281</td>\n",
       "      <td>338.62</td>\n",
       "      <td>47.80</td>\n",
       "      <td>182.59</td>\n",
       "      <td>18.78</td>\n",
       "      <td>41.45</td>\n",
       "      <td>3</td>\n",
       "      <td>629.24</td>\n",
       "    </tr>\n",
       "    <tr>\n",
       "      <th>...</th>\n",
       "      <td>...</td>\n",
       "      <td>...</td>\n",
       "      <td>...</td>\n",
       "      <td>...</td>\n",
       "      <td>...</td>\n",
       "      <td>...</td>\n",
       "      <td>...</td>\n",
       "      <td>...</td>\n",
       "      <td>...</td>\n",
       "      <td>...</td>\n",
       "      <td>...</td>\n",
       "      <td>...</td>\n",
       "      <td>...</td>\n",
       "      <td>...</td>\n",
       "      <td>...</td>\n",
       "      <td>...</td>\n",
       "    </tr>\n",
       "    <tr>\n",
       "      <th>10291</th>\n",
       "      <td>10292</td>\n",
       "      <td>1984.0</td>\n",
       "      <td>67.0</td>\n",
       "      <td>4 - PhD</td>\n",
       "      <td>6375.0</td>\n",
       "      <td>2.0</td>\n",
       "      <td>0.0</td>\n",
       "      <td>-0.11</td>\n",
       "      <td>0.961204</td>\n",
       "      <td>393.74</td>\n",
       "      <td>49.45</td>\n",
       "      <td>173.81</td>\n",
       "      <td>9.78</td>\n",
       "      <td>14.78</td>\n",
       "      <td>4</td>\n",
       "      <td>641.56</td>\n",
       "    </tr>\n",
       "    <tr>\n",
       "      <th>10292</th>\n",
       "      <td>10293</td>\n",
       "      <td>1977.0</td>\n",
       "      <td>64.0</td>\n",
       "      <td>1 - Basic</td>\n",
       "      <td>4862.0</td>\n",
       "      <td>3.0</td>\n",
       "      <td>0.0</td>\n",
       "      <td>1405.60</td>\n",
       "      <td>0.000000</td>\n",
       "      <td>133.58</td>\n",
       "      <td>1035.75</td>\n",
       "      <td>143.25</td>\n",
       "      <td>12.89</td>\n",
       "      <td>105.13</td>\n",
       "      <td>1</td>\n",
       "      <td>1430.60</td>\n",
       "    </tr>\n",
       "    <tr>\n",
       "      <th>10293</th>\n",
       "      <td>10294</td>\n",
       "      <td>1994.0</td>\n",
       "      <td>40.0</td>\n",
       "      <td>3 - BSc/MSc</td>\n",
       "      <td>5835.0</td>\n",
       "      <td>1.0</td>\n",
       "      <td>1.0</td>\n",
       "      <td>524.10</td>\n",
       "      <td>0.211335</td>\n",
       "      <td>403.63</td>\n",
       "      <td>132.80</td>\n",
       "      <td>142.25</td>\n",
       "      <td>12.67</td>\n",
       "      <td>4.89</td>\n",
       "      <td>3</td>\n",
       "      <td>696.24</td>\n",
       "    </tr>\n",
       "    <tr>\n",
       "      <th>10294</th>\n",
       "      <td>10295</td>\n",
       "      <td>1981.0</td>\n",
       "      <td>39.0</td>\n",
       "      <td>1 - Basic</td>\n",
       "      <td>3941.0</td>\n",
       "      <td>2.0</td>\n",
       "      <td>1.0</td>\n",
       "      <td>250.05</td>\n",
       "      <td>0.645060</td>\n",
       "      <td>188.59</td>\n",
       "      <td>211.15</td>\n",
       "      <td>198.37</td>\n",
       "      <td>63.90</td>\n",
       "      <td>112.91</td>\n",
       "      <td>1</td>\n",
       "      <td>774.92</td>\n",
       "    </tr>\n",
       "    <tr>\n",
       "      <th>10295</th>\n",
       "      <td>10296</td>\n",
       "      <td>1990.0</td>\n",
       "      <td>35.0</td>\n",
       "      <td>4 - PhD</td>\n",
       "      <td>5630.0</td>\n",
       "      <td>1.0</td>\n",
       "      <td>1.0</td>\n",
       "      <td>463.75</td>\n",
       "      <td>0.270043</td>\n",
       "      <td>414.08</td>\n",
       "      <td>94.45</td>\n",
       "      <td>141.25</td>\n",
       "      <td>6.89</td>\n",
       "      <td>12.89</td>\n",
       "      <td>4</td>\n",
       "      <td>669.56</td>\n",
       "    </tr>\n",
       "  </tbody>\n",
       "</table>\n",
       "<p>10294 rows × 16 columns</p>\n",
       "</div>"
      ],
      "text/plain": [
       "       cod_cust_id  dt_fpy  atr_cust_age      dsc_edu_deg  amt_gms  atr_gla  \\\n",
       "0                1  1985.0          34.0  2 - High School   4354.0      1.0   \n",
       "1                2  1981.0          21.0  2 - High School   1353.0      4.0   \n",
       "2                3  1991.0          46.0        1 - Basic   4554.0      3.0   \n",
       "3                4  1990.0          35.0      3 - BSc/MSc   2197.0      4.0   \n",
       "4                5  1986.0          43.0      3 - BSc/MSc   3526.0      4.0   \n",
       "...            ...     ...           ...              ...      ...      ...   \n",
       "10291        10292  1984.0          67.0          4 - PhD   6375.0      2.0   \n",
       "10292        10293  1977.0          64.0        1 - Basic   4862.0      3.0   \n",
       "10293        10294  1994.0          40.0      3 - BSc/MSc   5835.0      1.0   \n",
       "10294        10295  1981.0          39.0        1 - Basic   3941.0      2.0   \n",
       "10295        10296  1990.0          35.0          4 - PhD   5630.0      1.0   \n",
       "\n",
       "       flg_childen  amt_cmv     rt_cr  amt_plob_motor  amt_plob_household  \\\n",
       "0              1.0   380.97  0.390032          375.85               79.45   \n",
       "1              1.0  -131.13  1.116503           77.46              416.20   \n",
       "2              0.0   504.67  0.284810          206.15              224.50   \n",
       "3              1.0   -16.99  0.986665          182.48               43.35   \n",
       "4              1.0    35.23  0.904281          338.62               47.80   \n",
       "...            ...      ...       ...             ...                 ...   \n",
       "10291          0.0    -0.11  0.961204          393.74               49.45   \n",
       "10292          0.0  1405.60  0.000000          133.58             1035.75   \n",
       "10293          1.0   524.10  0.211335          403.63              132.80   \n",
       "10294          1.0   250.05  0.645060          188.59              211.15   \n",
       "10295          1.0   463.75  0.270043          414.08               94.45   \n",
       "\n",
       "       amt_plob_health  amt_plob_life  amt_plob_wcomp atr_edu_deg  \\\n",
       "0               146.36          47.01           16.89           2   \n",
       "1               116.69         194.48          106.13           2   \n",
       "2               124.58          86.35           99.02           1   \n",
       "3               311.17          35.34           28.34           3   \n",
       "4               182.59          18.78           41.45           3   \n",
       "...                ...            ...             ...         ...   \n",
       "10291           173.81           9.78           14.78           4   \n",
       "10292           143.25          12.89          105.13           1   \n",
       "10293           142.25          12.67            4.89           3   \n",
       "10294           198.37          63.90          112.91           1   \n",
       "10295           141.25           6.89           12.89           4   \n",
       "\n",
       "       amt_premium_total  \n",
       "0                 665.56  \n",
       "1                 910.96  \n",
       "2                 740.60  \n",
       "3                 600.68  \n",
       "4                 629.24  \n",
       "...                  ...  \n",
       "10291             641.56  \n",
       "10292            1430.60  \n",
       "10293             696.24  \n",
       "10294             774.92  \n",
       "10295             669.56  \n",
       "\n",
       "[10294 rows x 16 columns]"
      ]
     },
     "execution_count": 26,
     "metadata": {},
     "output_type": "execute_result"
    }
   ],
   "source": [
    "dfInsurance"
   ]
  },
  {
   "cell_type": "markdown",
   "id": "af9abb0c-67dc-4c65-ac4a-b780e6881dbc",
   "metadata": {},
   "source": [
    "# Distribution of features"
   ]
  },
  {
   "cell_type": "code",
   "execution_count": 27,
   "id": "71d7dfb2-cd40-466c-b83d-6a2e081d212e",
   "metadata": {
    "tags": []
   },
   "outputs": [
    {
     "data": {
      "text/plain": [
       "Index(['cod_cust_id', 'dt_fpy', 'atr_cust_age', 'dsc_edu_deg', 'amt_gms',\n",
       "       'atr_gla', 'flg_childen', 'amt_cmv', 'rt_cr', 'amt_plob_motor',\n",
       "       'amt_plob_household', 'amt_plob_health', 'amt_plob_life',\n",
       "       'amt_plob_wcomp', 'atr_edu_deg', 'amt_premium_total'],\n",
       "      dtype='object')"
      ]
     },
     "execution_count": 27,
     "metadata": {},
     "output_type": "execute_result"
    }
   ],
   "source": [
    "dfInsurance.columns"
   ]
  },
  {
   "cell_type": "markdown",
   "id": "937807b6-162e-4e11-a3f5-d0a3f6564f81",
   "metadata": {},
   "source": [
    "## First Policy's Year\n",
    "\n",
    "[!] Improve plot appeal"
   ]
  },
  {
   "cell_type": "code",
   "execution_count": 28,
   "id": "ec893a05-91ca-43a2-9062-7ef0611f26b2",
   "metadata": {},
   "outputs": [],
   "source": [
    "min_FPY = min(dfInsurance['dt_fpy'])\n",
    "max_FPY = max(dfInsurance['dt_fpy'])\n",
    "n_bins = max_FPY - min_FPY"
   ]
  },
  {
   "cell_type": "code",
   "execution_count": 29,
   "id": "ed7ddd6e-5d2b-455b-8c11-583ba5e62a01",
   "metadata": {},
   "outputs": [
    {
     "data": {
      "image/png": "[encoded data removed]",
      "text/plain": [
       "<Figure size 360x360 with 1 Axes>"
      ]
     },
     "metadata": {
      "needs_background": "light"
     },
     "output_type": "display_data"
    }
   ],
   "source": [
    "%matplotlib inline\n",
    "sns.displot(dfInsurance['dt_fpy'], kind = 'hist',\n",
    "             color = 'blue', bins = int(n_bins))\n",
    "\n",
    "plt.xlabel(\"First Policy's Year\")\n",
    "plt.ylabel(\"# Observations\")\n",
    "\n",
    "plt.show()"
   ]
  },
  {
   "cell_type": "markdown",
   "id": "527501e5-a7b5-435b-b30b-d2556e262f73",
   "metadata": {},
   "source": [
    "## Customer Age\n",
    "\n",
    "[!] Improve plot appeal"
   ]
  },
  {
   "cell_type": "code",
   "execution_count": 30,
   "id": "4edb06b5-9009-4ae3-bc12-234663e3f8cc",
   "metadata": {},
   "outputs": [],
   "source": [
    "min_CustA = min(dfInsurance['atr_cust_age'])\n",
    "max_CustA = max(dfInsurance['atr_cust_age'])\n",
    "n_bins = max_CustA - min_CustA"
   ]
  },
  {
   "cell_type": "code",
   "execution_count": 31,
   "id": "beef78ba-ceca-44d3-be8b-44f99feffde4",
   "metadata": {},
   "outputs": [
    {
     "data": {
      "image/png": "[encoded data removed]",
      "text/plain": [
       "<Figure size 360x360 with 1 Axes>"
      ]
     },
     "metadata": {
      "needs_background": "light"
     },
     "output_type": "display_data"
    }
   ],
   "source": [
    "sns.displot(dfInsurance['atr_cust_age'], kind = 'hist', \n",
    "             color = 'blue', bins = int(n_bins))\n",
    "\n",
    "plt.xlabel(\"Customer Age\")\n",
    "plt.ylabel(\"# Observations\")\n",
    "\n",
    "plt.show()"
   ]
  },
  {
   "cell_type": "markdown",
   "id": "979f654b-4ca4-4785-b7c8-74c9a3586f10",
   "metadata": {},
   "source": [
    "### Customer Age VS All features\n",
    "\n",
    "https://stackoverflow.com/questions/63083489/how-to-add-labels-to-a-pairplot  \n",
    "https://www.geeksforgeeks.org/python-get-dictionary-keys-as-a-list/"
   ]
  },
  {
   "cell_type": "code",
   "execution_count": 32,
   "id": "d838151b-5a67-43d6-8f9a-2646604dd283",
   "metadata": {},
   "outputs": [
    {
     "data": {
      "image/png": "[encoded data removed]",
      "text/plain": [
       "<Figure size 2700x180 with 16 Axes>"
      ]
     },
     "metadata": {
      "needs_background": "light"
     },
     "output_type": "display_data"
    }
   ],
   "source": [
    "plot_columns = [column for column in dfInsurance.columns if column not in ['cod_cust_id']]\n",
    "g = sns.pairplot(data=dfInsurance,\n",
    "            y_vars=['atr_cust_age'],\n",
    "            x_vars=plot_columns)\n",
    "\n",
    "for ax, lbl in zip(g.axes.flatten(), [*columns_map_reverse]):\n",
    "    # print(ax, lbl)\n",
    "    ax.set_xlabel(f'{columns_map_reverse[lbl]}')"
   ]
  },
  {
   "cell_type": "code",
   "execution_count": 33,
   "id": "8f666ad6",
   "metadata": {},
   "outputs": [
    {
     "data": {
      "text/plain": [
       "Index(['cod_cust_id', 'dt_fpy', 'atr_cust_age', 'dsc_edu_deg', 'amt_gms',\n",
       "       'atr_gla', 'flg_childen', 'amt_cmv', 'rt_cr', 'amt_plob_motor',\n",
       "       'amt_plob_household', 'amt_plob_health', 'amt_plob_life',\n",
       "       'amt_plob_wcomp', 'atr_edu_deg', 'amt_premium_total'],\n",
       "      dtype='object')"
      ]
     },
     "execution_count": 33,
     "metadata": {},
     "output_type": "execute_result"
    }
   ],
   "source": [
    "dfInsurance.columns"
   ]
  },
  {
   "cell_type": "code",
   "execution_count": 34,
   "id": "749e2b8f",
   "metadata": {},
   "outputs": [],
   "source": [
    "dfInsurance.drop(columns=['cod_cust_id'], inplace=True)"
   ]
  },
  {
   "cell_type": "code",
   "execution_count": 35,
   "id": "2e4b6fe1",
   "metadata": {},
   "outputs": [
    {
     "data": {
      "text/plain": [
       "Index(['Customer Identity', 'First Policy´s Year', 'Customer Age',\n",
       "       'Educational Degree', 'Gross Monthly Salary', 'Geographic Living Area',\n",
       "       'Has Children (Y=1)', 'Customer Monetary Value', 'Claims Rate',\n",
       "       'Premiums in LOB: Motor', 'Premiums in LOB: Household',\n",
       "       'Premiums in LOB: Health', 'Premiums in LOB:  Life',\n",
       "       'Premiums in LOB: Work Compensations'],\n",
       "      dtype='object')"
      ]
     },
     "execution_count": 35,
     "metadata": {},
     "output_type": "execute_result"
    }
   ],
   "source": [
    "dataset.columns"
   ]
  },
  {
   "cell_type": "code",
   "execution_count": 36,
   "id": "0a6b42ba",
   "metadata": {},
   "outputs": [
    {
     "data": {
      "image/png": "[encoded data removed]",
      "text/plain": [
       "<Figure size 360x360 with 6 Axes>"
      ]
     },
     "metadata": {
      "needs_background": "light"
     },
     "output_type": "display_data"
    }
   ],
   "source": [
    "sns.pairplot(dataset.loc[0:,'First Policy´s Year':'Customer Age']);"
   ]
  },
  {
   "cell_type": "code",
   "execution_count": 37,
   "id": "3ef5da60",
   "metadata": {},
   "outputs": [
    {
     "data": {
      "image/png": "[encoded data removed]",
      "text/plain": [
       "<Figure size 360x360 with 6 Axes>"
      ]
     },
     "metadata": {
      "needs_background": "light"
     },
     "output_type": "display_data"
    }
   ],
   "source": [
    "sns.pairplot(dataset.loc[0:, 'Gross Monthly Salary':'Geographic Living Area']);"
   ]
  },
  {
   "cell_type": "code",
   "execution_count": 38,
   "id": "3fdb8023",
   "metadata": {},
   "outputs": [
    {
     "data": {
      "text/plain": [
       "Index(['Customer Identity', 'First Policy´s Year', 'Customer Age',\n",
       "       'Educational Degree', 'Gross Monthly Salary', 'Geographic Living Area',\n",
       "       'Has Children (Y=1)', 'Customer Monetary Value', 'Claims Rate',\n",
       "       'Premiums in LOB: Motor', 'Premiums in LOB: Household',\n",
       "       'Premiums in LOB: Health', 'Premiums in LOB:  Life',\n",
       "       'Premiums in LOB: Work Compensations'],\n",
       "      dtype='object')"
      ]
     },
     "execution_count": 38,
     "metadata": {},
     "output_type": "execute_result"
    }
   ],
   "source": [
    "dataset.columns"
   ]
  },
  {
   "cell_type": "code",
   "execution_count": 39,
   "id": "c8174def",
   "metadata": {},
   "outputs": [
    {
     "data": {
      "image/png": "[encoded data removed]",
      "text/plain": [
       "<Figure size 360x360 with 6 Axes>"
      ]
     },
     "metadata": {
      "needs_background": "light"
     },
     "output_type": "display_data"
    }
   ],
   "source": [
    "sns.pairplot(dataset.loc[0:, 'Has Children (Y=1)':'Customer Monetary Value']);"
   ]
  },
  {
   "cell_type": "code",
   "execution_count": 40,
   "id": "314175fc",
   "metadata": {},
   "outputs": [
    {
     "data": {
      "image/png": "[encoded data removed]",
      "text/plain": [
       "<Figure size 360x360 with 6 Axes>"
      ]
     },
     "metadata": {
      "needs_background": "light"
     },
     "output_type": "display_data"
    }
   ],
   "source": [
    "sns.pairplot(dataset.loc[0:, 'Claims Rate':'Premiums in LOB: Motor']);"
   ]
  },
  {
   "cell_type": "code",
   "execution_count": null,
   "id": "3c61abfb-713e-4bde-bbcf-b84405f61c43",
   "metadata": {},
   "outputs": [],
   "source": [
    "Customer Identity\tcod_cust_id\n",
    "First Policy´s Year\tdt_fpy\n",
    "Customer Age\tatr_cust_age\n",
    "Educational Degree\tdsc_edu_deg\n",
    "Gross Monthly Salary\tamt_gms\n",
    "Geographic Living Area\tatr_gla\n",
    "Has Children (Y=1)\tflg_childen\n",
    "Customer Monetary Value\tamt_cmv\n",
    "Claims Rate\trt_cr\n",
    "Premiums in LOB: Motor\tamt_lob_motor\n",
    "Premiums in LOB: Household\tamt_plob_household\n",
    "Premiums in LOB: Health\tamt_plob_health\n",
    "Premiums in LOB: Life\tamt_plob_life\n",
    "Premiums in LOB: Work Compensations\tamt_plob_wcomp"
   ]
  },
  {
   "cell_type": "code",
   "execution_count": 42,
   "id": "6bbef63e",
   "metadata": {},
   "outputs": [
    {
     "data": {
      "image/png": "[encoded data removed]",
      "text/plain": [
       "<Figure size 900x180 with 6 Axes>"
      ]
     },
     "metadata": {
      "needs_background": "light"
     },
     "output_type": "display_data"
    }
   ],
   "source": [
    "pp = sns.pairplot(data=dfInsurance,\n",
    "                  y_vars=['amt_premium_total'],\n",
    "                  x_vars=['dt_fpy', 'atr_cust_age', 'amt_gms', 'atr_gla',\n",
    "                         'amt_premium_total'])"
   ]
  },
  {
   "cell_type": "code",
   "execution_count": 46,
   "id": "dc52694b",
   "metadata": {},
   "outputs": [
    {
     "data": {
      "image/png": "[encoded data removed]",
      "text/plain": [
       "<Figure size 1080x180 with 7 Axes>"
      ]
     },
     "metadata": {
      "needs_background": "light"
     },
     "output_type": "display_data"
    }
   ],
   "source": [
    "pp = sns.pairplot(data=dfInsurance,\n",
    "                  y_vars=['amt_premium_total'],\n",
    "                  x_vars=['flg_childen', 'amt_cmv', 'rt_cr', \n",
    "                          'amt_plob_motor', 'amt_plob_household',\n",
    "                         'amt_premium_total'])"
   ]
  },
  {
   "cell_type": "code",
   "execution_count": 47,
   "id": "8fc216de",
   "metadata": {},
   "outputs": [
    {
     "data": {
      "image/png": "[encoded data removed]",
      "text/plain": [
       "<Figure size 900x180 with 6 Axes>"
      ]
     },
     "metadata": {
      "needs_background": "light"
     },
     "output_type": "display_data"
    }
   ],
   "source": [
    "pp = sns.pairplot(data=dfInsurance,\n",
    "                  y_vars=['amt_premium_total'],\n",
    "                  x_vars=['amt_plob_health', 'amt_plob_life', 'amt_plob_wcomp', \n",
    "                          'dsc_edu_deg', 'amt_premium_total'])"
   ]
  },
  {
   "cell_type": "code",
   "execution_count": 51,
   "id": "547be850",
   "metadata": {},
   "outputs": [],
   "source": [
    "data_back = dfInsurance.copy()"
   ]
  },
  {
   "cell_type": "markdown",
   "id": "74fc5175",
   "metadata": {},
   "source": [
    "Separação em 2 datasets\n",
    "\n",
    "* A = valores normais\n",
    "* B = valores extremos"
   ]
  },
  {
   "cell_type": "code",
   "execution_count": 52,
   "id": "80137b4d",
   "metadata": {},
   "outputs": [
    {
     "data": {
      "text/plain": [
       "<AxesSubplot:>"
      ]
     },
     "execution_count": 52,
     "metadata": {},
     "output_type": "execute_result"
    },
    {
     "data": {
      "image/png": "[encoded data removed]",
      "text/plain": [
       "<Figure size 432x288 with 1 Axes>"
      ]
     },
     "metadata": {
      "needs_background": "light"
     },
     "output_type": "display_data"
    }
   ],
   "source": [
    "data_back['amt_premium_total'].hist(bins=10)"
   ]
  },
  {
   "cell_type": "code",
   "execution_count": 53,
   "id": "f7ea1b27",
   "metadata": {},
   "outputs": [
    {
     "data": {
      "text/plain": [
       "Index(['dt_fpy', 'atr_cust_age', 'dsc_edu_deg', 'amt_gms', 'atr_gla',\n",
       "       'flg_childen', 'amt_cmv', 'rt_cr', 'amt_plob_motor',\n",
       "       'amt_plob_household', 'amt_plob_health', 'amt_plob_life',\n",
       "       'amt_plob_wcomp', 'atr_edu_deg', 'amt_premium_total'],\n",
       "      dtype='object')"
      ]
     },
     "execution_count": 53,
     "metadata": {},
     "output_type": "execute_result"
    }
   ],
   "source": [
    "data_back.columns"
   ]
  },
  {
   "cell_type": "code",
   "execution_count": 56,
   "id": "54ed0144",
   "metadata": {},
   "outputs": [],
   "source": [
    "df_bck_a = data_back.loc[~((data_back['dt_fpy'] > 2022) | \n",
    "                        (data_back['atr_cust_age'] > 100) | \n",
    "                        (data_back['amt_cmv'] < -160000) |\n",
    "                          (data_back['amt_gms']> 15000) |\n",
    "                        (data_back['rt_cr'] > 2) |\n",
    "                          (data_back['amt_plob_motor'] > 2000)|\n",
    "                          (data_back['amt_plob_household'] > 5000)|\n",
    "                          (data_back['amt_plob_health'] > 5000)|\n",
    "                          (data_back['amt_plob_wcomp'] > 500)|\n",
    "                          (data_back['amt_premium_total'] > 5000))]"
   ]
  },
  {
   "cell_type": "code",
   "execution_count": 59,
   "id": "76a28484",
   "metadata": {},
   "outputs": [
    {
     "data": {
      "text/plain": [
       "<AxesSubplot:>"
      ]
     },
     "execution_count": 59,
     "metadata": {},
     "output_type": "execute_result"
    },
    {
     "data": {
      "image/png": "[encoded data removed]",
      "text/plain": [
       "<Figure size 432x288 with 1 Axes>"
      ]
     },
     "metadata": {
      "needs_background": "light"
     },
     "output_type": "display_data"
    }
   ],
   "source": [
    "df_bck_a['dt_fpy'].hist(bins=10)"
   ]
  },
  {
   "cell_type": "code",
   "execution_count": 60,
   "id": "e2d3eda1",
   "metadata": {},
   "outputs": [
    {
     "data": {
      "text/plain": [
       "<AxesSubplot:>"
      ]
     },
     "execution_count": 60,
     "metadata": {},
     "output_type": "execute_result"
    },
    {
     "data": {
      "image/png": "[encoded data removed]",
      "text/plain": [
       "<Figure size 432x288 with 1 Axes>"
      ]
     },
     "metadata": {
      "needs_background": "light"
     },
     "output_type": "display_data"
    }
   ],
   "source": [
    "df_bck_a['amt_plob_household'].hist(bins=10)"
   ]
  },
  {
   "cell_type": "code",
   "execution_count": 61,
   "id": "4b14348f",
   "metadata": {},
   "outputs": [
    {
     "data": {
      "text/plain": [
       "<AxesSubplot:>"
      ]
     },
     "execution_count": 61,
     "metadata": {},
     "output_type": "execute_result"
    },
    {
     "data": {
      "image/png": "[encoded data removed]",
      "text/plain": [
       "<Figure size 432x288 with 1 Axes>"
      ]
     },
     "metadata": {
      "needs_background": "light"
     },
     "output_type": "display_data"
    }
   ],
   "source": [
    "df_bck_a['amt_plob_health'].hist(bins=10)"
   ]
  },
  {
   "cell_type": "code",
   "execution_count": 62,
   "id": "3b155773",
   "metadata": {},
   "outputs": [
    {
     "data": {
      "text/plain": [
       "<AxesSubplot:>"
      ]
     },
     "execution_count": 62,
     "metadata": {},
     "output_type": "execute_result"
    },
    {
     "data": {
      "image/png": "[encoded data removed]",
      "text/plain": [
       "<Figure size 432x288 with 1 Axes>"
      ]
     },
     "metadata": {
      "needs_background": "light"
     },
     "output_type": "display_data"
    }
   ],
   "source": [
    "df_bck_a['amt_plob_wcomp'].hist(bins=10)"
   ]
  },
  {
   "cell_type": "code",
   "execution_count": 63,
   "id": "c48f6938",
   "metadata": {},
   "outputs": [
    {
     "data": {
      "text/plain": [
       "<AxesSubplot:>"
      ]
     },
     "execution_count": 63,
     "metadata": {},
     "output_type": "execute_result"
    },
    {
     "data": {
      "image/png": "[encoded data removed]",
      "text/plain": [
       "<Figure size 432x288 with 1 Axes>"
      ]
     },
     "metadata": {
      "needs_background": "light"
     },
     "output_type": "display_data"
    }
   ],
   "source": [
    "df_bck_a['amt_plob_motor'].hist(bins=10)"
   ]
  },
  {
   "cell_type": "code",
   "execution_count": 64,
   "id": "2077c5be",
   "metadata": {},
   "outputs": [
    {
     "data": {
      "text/plain": [
       "<AxesSubplot:>"
      ]
     },
     "execution_count": 64,
     "metadata": {},
     "output_type": "execute_result"
    },
    {
     "data": {
      "image/png": "[encoded data removed]",
      "text/plain": [
       "<Figure size 432x288 with 1 Axes>"
      ]
     },
     "metadata": {
      "needs_background": "light"
     },
     "output_type": "display_data"
    }
   ],
   "source": [
    "df_bck_a['rt_cr'].hist(bins=10)"
   ]
  },
  {
   "cell_type": "code",
   "execution_count": 65,
   "id": "116952a2",
   "metadata": {},
   "outputs": [],
   "source": [
    "df_bck_b = data_back.loc[((data_back['dt_fpy'] > 2022) | \n",
    "                        (data_back['atr_cust_age'] > 100) | \n",
    "                        (data_back['amt_cmv'] < -160000) |\n",
    "                          (data_back['amt_gms']> 15000) |\n",
    "                        (data_back['rt_cr'] > 2) |\n",
    "                          (data_back['amt_plob_motor'] > 2000)|\n",
    "                          (data_back['amt_plob_household'] > 5000)|\n",
    "                          (data_back['amt_plob_health'] > 5000)|\n",
    "                          (data_back['amt_plob_wcomp'] > 500)|\n",
    "                          (data_back['amt_premium_total'] > 5000))]"
   ]
  },
  {
   "cell_type": "code",
   "execution_count": null,
   "id": "54ecf173",
   "metadata": {},
   "outputs": [],
   "source": []
  }
 ],
 "metadata": {
  "kernelspec": {
   "display_name": "Python 3 (ipykernel)",
   "language": "python",
   "name": "python3"
  },
  "language_info": {
   "codemirror_mode": {
    "name": "ipython",
    "version": 3
   },
   "file_extension": ".py",
   "mimetype": "text/x-python",
   "name": "python",
   "nbconvert_exporter": "python",
   "pygments_lexer": "ipython3",
   "version": "3.8.5"
  }
 },
 "nbformat": 4,
 "nbformat_minor": 5
}
