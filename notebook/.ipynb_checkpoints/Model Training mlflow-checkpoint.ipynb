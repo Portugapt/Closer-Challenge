{
 "cells": [
  {
   "cell_type": "code",
   "execution_count": 1,
   "id": "d02dd831-fa4b-4531-97b9-19367f05d9c4",
   "metadata": {},
   "outputs": [
    {
     "name": "stdout",
     "output_type": "stream",
     "text": [
      "Current tracking uri: file:///C:/Users/Jo%C3%A3oMonteiro/Documents/dev/formacao/Closer-Challenge/notebook/mlruns\n"
     ]
    }
   ],
   "source": [
    "import mlflow\n",
    "import logging\n",
    "\n",
    "logging.basicConfig(filename='model_training_1.log', level=logging.DEBUG, format='%(name)s - %(levelname)s - %(message)s')\n",
    "# Get the current tracking uri\n",
    "tracking_uri = mlflow.get_tracking_uri()\n",
    "print(\"Current tracking uri: {}\".format(tracking_uri))\n"
   ]
  },
  {
   "cell_type": "code",
   "execution_count": 2,
   "id": "27e115da-1791-445a-b7bd-714eaab88165",
   "metadata": {},
   "outputs": [],
   "source": [
    "mlflow.set_experiment(experiment_name = \"Proof-of-concept KMeans\")\n",
    "\n",
    "KM_EXPERIMENT = mlflow.get_experiment_by_name(\"Proof-of-concept KMeans\")\n",
    "logging.info(f'Experiment Set. Experiment ID: {KM_EXPERIMENT.experiment_id}')\n",
    "logging.debug(f'Artifact Location: {KM_EXPERIMENT.artifact_location}')\n",
    "logging.debug(f'Tags: {KM_EXPERIMENT.tags}')\n",
    "logging.debug(f'Lifecycle_stage: {KM_EXPERIMENT.lifecycle_stage}')"
   ]
  },
  {
   "cell_type": "markdown",
   "id": "a87f334f-27aa-463e-855d-4f9b980c4044",
   "metadata": {},
   "source": [
    "## Library Imports"
   ]
  },
  {
   "cell_type": "code",
   "execution_count": 3,
   "id": "29996edd-87ec-4f3a-9b35-dd7ec4d066eb",
   "metadata": {},
   "outputs": [],
   "source": [
    "import pandas as pd\n",
    "# https://scikit-learn.org/stable/modules/classes.html#module-sklearn.cluster\n",
    "from sklearn.cluster import KMeans\n",
    "# https://scikit-learn.org/stable/modules/classes.html#sklearn-metrics-metrics\n",
    "from sklearn.metrics import silhouette_score, calinski_harabasz_score"
   ]
  },
  {
   "cell_type": "markdown",
   "id": "092a4152-f1b9-48af-a12d-02e83f94201c",
   "metadata": {},
   "source": [
    "## Parameters"
   ]
  },
  {
   "cell_type": "code",
   "execution_count": 11,
   "id": "81c35064-cd11-49c1-9b39-ce9cfa798520",
   "metadata": {},
   "outputs": [],
   "source": [
    "DATA_PATH = \"../data/20220412-171427_dataset.csv\""
   ]
  },
  {
   "cell_type": "code",
   "execution_count": 17,
   "id": "bfa1d596-6eda-4d93-a14c-6d6aa389caa9",
   "metadata": {},
   "outputs": [],
   "source": [
    "SELECTED_FEATURES = ['fe_amt_plob_motor_scale','fe_amt_plob_life_scale',\n",
    "                    'fe_amt_plob_health_scale','fe_amt_plob_wcomp_scale',\n",
    "                    'fe_amt_plob_household_scale']"
   ]
  },
  {
   "cell_type": "code",
   "execution_count": 13,
   "id": "7fcbd20e-2ca3-41ae-837b-4960721d474e",
   "metadata": {},
   "outputs": [],
   "source": [
    "kmeans_params = {\n",
    "            \"n_clusters\": 3,\n",
    "            \"init\": 'random',\n",
    "            \"n_init\": 10,\n",
    "            \"max_iter\": 20,\n",
    "            \"random_state\": 42}"
   ]
  },
  {
   "cell_type": "markdown",
   "id": "ebf9b045-29e4-41d1-bd49-c801b93749f0",
   "metadata": {},
   "source": [
    "## Funções predefinidas"
   ]
  },
  {
   "cell_type": "markdown",
   "id": "2572e917-317b-463a-869e-df262ef82b86",
   "metadata": {},
   "source": [
    "### Scores"
   ]
  },
  {
   "cell_type": "code",
   "execution_count": 20,
   "id": "5a2f02a3-2bd8-4efe-84da-c11153cecc8a",
   "metadata": {},
   "outputs": [],
   "source": [
    "def metrics_calculation(xData, labelData):\n",
    "    sil_score = silhouette_score(xData, labelData, metric='euclidean')\n",
    "    ch_score = calinski_harabasz_score(xData, labelData)\n",
    "    return sil_score, ch_score"
   ]
  },
  {
   "cell_type": "markdown",
   "id": "d29d4a47-ebd5-4abe-bb34-28245b9d44f7",
   "metadata": {},
   "source": [
    "## Load data"
   ]
  },
  {
   "cell_type": "code",
   "execution_count": 14,
   "id": "1e23af35-24cb-48b1-bce6-8c120776cc67",
   "metadata": {},
   "outputs": [],
   "source": [
    "dfA = pd.read_csv(DATA_PATH)"
   ]
  },
  {
   "cell_type": "code",
   "execution_count": 15,
   "id": "931a8c2f-9959-4b16-89e4-740a8075d373",
   "metadata": {},
   "outputs": [],
   "source": [
    "dfTrain = dfA.loc[dfA.Set == 'train']\n",
    "dfTest = dfA.loc[dfA.Set == 'test']"
   ]
  },
  {
   "cell_type": "markdown",
   "id": "58e12a2d-85e1-4e20-adc7-e552d13fe6c4",
   "metadata": {},
   "source": [
    "## MLFLOW"
   ]
  },
  {
   "cell_type": "markdown",
   "id": "0acf0582-361b-4a72-a449-79f871f4d777",
   "metadata": {},
   "source": [
    "### OBRIGATORIO: START_RUN"
   ]
  },
  {
   "cell_type": "code",
   "execution_count": 21,
   "id": "801de38e-36a4-4fff-9436-43e2699a4b1a",
   "metadata": {},
   "outputs": [
    {
     "data": {
      "text/plain": [
       "<ActiveRun: >"
      ]
     },
     "execution_count": 21,
     "metadata": {},
     "output_type": "execute_result"
    }
   ],
   "source": [
    "mlflow.start_run()"
   ]
  },
  {
   "cell_type": "markdown",
   "id": "5d863b68-2b91-49c2-86e0-cc5ef21af282",
   "metadata": {},
   "source": [
    "### Correr o modelo"
   ]
  },
  {
   "cell_type": "code",
   "execution_count": 22,
   "id": "cd00d7aa-4571-45d1-97a9-31fbefa62153",
   "metadata": {},
   "outputs": [
    {
     "data": {
      "text/plain": [
       "KMeans(init='random', max_iter=20, n_clusters=3, random_state=42)"
      ]
     },
     "execution_count": 22,
     "metadata": {},
     "output_type": "execute_result"
    }
   ],
   "source": [
    "model_kmeans = KMeans(**kmeans_params)\n",
    "model_kmeans.fit(dfTrain[SELECTED_FEATURES])"
   ]
  },
  {
   "cell_type": "markdown",
   "id": "2e61d8b0-2172-4284-9009-fafcd75a532c",
   "metadata": {},
   "source": [
    "#### Guardar o modelo e parametros"
   ]
  },
  {
   "cell_type": "code",
   "execution_count": 27,
   "id": "1687554d-455c-498b-aeed-356c23865aef",
   "metadata": {},
   "outputs": [],
   "source": [
    "mlflow.sklearn.log_model(model_kmeans, artifact_path = 'poc_kmodel')\n",
    "\n",
    "## Guardar também as variáveis utilizadas\n",
    "mlflow.log_param('features', SELECTED_FEATURES)\n",
    "mlflow.log_params(kmeans_params)"
   ]
  },
  {
   "cell_type": "markdown",
   "id": "04ce6fb9-78d4-4051-b7d1-31cdbc42f17a",
   "metadata": {},
   "source": [
    "### Scores "
   ]
  },
  {
   "cell_type": "markdown",
   "id": "b898bfe3-fffe-458c-86fa-df7d7e811a46",
   "metadata": {},
   "source": [
    "#### Train"
   ]
  },
  {
   "cell_type": "code",
   "execution_count": 25,
   "id": "91e80e48-23ed-476e-9801-fcd762467039",
   "metadata": {},
   "outputs": [],
   "source": [
    "predict_labelData = model_kmeans.predict(dfTrain[SELECTED_FEATURES])\n",
    "sil_train, ch_train = metrics_calculation(dfTrain[SELECTED_FEATURES], predict_labelData)\n",
    "\n",
    "mlflow.log_metric('Train - Silhouette', sil_train)\n",
    "mlflow.log_metric('Train - Calinski Harabasz', ch_train)"
   ]
  },
  {
   "cell_type": "markdown",
   "id": "6159aa6e-85ff-4c1d-93ee-1df8b3e0868a",
   "metadata": {},
   "source": [
    "#### Test"
   ]
  },
  {
   "cell_type": "code",
   "execution_count": 26,
   "id": "0ab0ee7a-25c7-45db-b5b3-adb245e65792",
   "metadata": {},
   "outputs": [],
   "source": [
    "predict_labelData = model_kmeans.predict(dfTest[SELECTED_FEATURES])\n",
    "sil_test, ch_test = metrics_calculation(dfTest[SELECTED_FEATURES], predict_labelData)\n",
    "\n",
    "mlflow.log_metric('Test - Silhouette', sil_test)\n",
    "mlflow.log_metric('Test - Calinski Harabasz', ch_test)"
   ]
  },
  {
   "cell_type": "markdown",
   "id": "94e8b1e4-ef24-4e88-8b5e-2f65c008ea77",
   "metadata": {},
   "source": [
    "### Visualização"
   ]
  },
  {
   "cell_type": "code",
   "execution_count": null,
   "id": "81f23fcb-c979-448a-ad58-68d959fd340d",
   "metadata": {},
   "outputs": [],
   "source": [
    "fig, ax = plt.subplots()\n",
    "ax.plot([0, 1], [2, 3])\n",
    "\n",
    "\n",
    "mlflow.log_figure(fig, \"figure.png\")"
   ]
  },
  {
   "cell_type": "markdown",
   "id": "a25add32-c68b-4457-8ce8-fe4808dc8542",
   "metadata": {},
   "source": [
    "### OBRIGATORIO: END_RUN"
   ]
  },
  {
   "cell_type": "code",
   "execution_count": 30,
   "id": "287472f3-6e58-4117-8d5b-797146e157f2",
   "metadata": {},
   "outputs": [],
   "source": [
    "mlflow.end_run()"
   ]
  },
  {
   "cell_type": "code",
   "execution_count": null,
   "id": "b06cb5b6-eee0-45f0-82c7-10d603bd0017",
   "metadata": {},
   "outputs": [],
   "source": []
  }
 ],
 "metadata": {
  "kernelspec": {
   "display_name": "Python 3 (ipykernel)",
   "language": "python",
   "name": "python3"
  },
  "language_info": {
   "codemirror_mode": {
    "name": "ipython",
    "version": 3
   },
   "file_extension": ".py",
   "mimetype": "text/x-python",
   "name": "python",
   "nbconvert_exporter": "python",
   "pygments_lexer": "ipython3",
   "version": "3.8.5"
  }
 },
 "nbformat": 4,
 "nbformat_minor": 5
}
