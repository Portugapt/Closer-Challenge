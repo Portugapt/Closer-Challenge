{
 "cells": [
  {
   "cell_type": "code",
   "execution_count": 5,
   "id": "d02dd831-fa4b-4531-97b9-19367f05d9c4",
   "metadata": {},
   "outputs": [
    {
     "name": "stdout",
     "output_type": "stream",
     "text": [
      "Current tracking uri: file:///C:/Users/Jo%C3%A3oMonteiro/Documents/dev/formacao/Closer-Challenge/notebook/mlruns\n"
     ]
    }
   ],
   "source": [
    "import mlflow\n",
    "import logging\n",
    "\n",
    "logging.basicConfig(filename='model_training_j.log', level=logging.DEBUG, format='%(name)s - %(levelname)s - %(message)s')\n",
    "# Get the current tracking uri\n",
    "tracking_uri = mlflow.get_tracking_uri()\n",
    "print(\"Current tracking uri: {}\".format(tracking_uri))\n"
   ]
  },
  {
   "cell_type": "code",
   "execution_count": 6,
   "id": "27e115da-1791-445a-b7bd-714eaab88165",
   "metadata": {},
   "outputs": [],
   "source": [
    "mlflow.set_experiment(experiment_name = \"Segmentation of Prospect\")\n",
    "\n",
    "KM_EXPERIMENT = mlflow.get_experiment_by_name(\"Segmentation of Prospect\")\n",
    "logging.info(f'Experiment Set. Experiment ID: {KM_EXPERIMENT.experiment_id}')\n",
    "logging.debug(f'Artifact Location: {KM_EXPERIMENT.artifact_location}')\n",
    "logging.debug(f'Tags: {KM_EXPERIMENT.tags}')\n",
    "logging.debug(f'Lifecycle_stage: {KM_EXPERIMENT.lifecycle_stage}')"
   ]
  },
  {
   "cell_type": "markdown",
   "id": "a87f334f-27aa-463e-855d-4f9b980c4044",
   "metadata": {},
   "source": [
    "## Library Imports"
   ]
  },
  {
   "cell_type": "code",
   "execution_count": 20,
   "id": "29996edd-87ec-4f3a-9b35-dd7ec4d066eb",
   "metadata": {},
   "outputs": [],
   "source": [
    "import pandas as pd\n",
    "import numpy as np\n",
    "# https://scikit-learn.org/stable/modules/classes.html#module-sklearn.cluster\n",
    "from sklearn.cluster import KMeans, DBSCAN\n",
    "# https://scikit-learn.org/stable/modules/classes.html#sklearn-metrics-metrics\n",
    "from sklearn.metrics import silhouette_score, calinski_harabasz_score, davies_bouldin_score"
   ]
  },
  {
   "cell_type": "markdown",
   "id": "092a4152-f1b9-48af-a12d-02e83f94201c",
   "metadata": {},
   "source": [
    "## Parameters"
   ]
  },
  {
   "cell_type": "code",
   "execution_count": 8,
   "id": "81c35064-cd11-49c1-9b39-ce9cfa798520",
   "metadata": {},
   "outputs": [],
   "source": [
    "DATA_PATH = \"../data/20220413-234639_dataset.csv\""
   ]
  },
  {
   "cell_type": "code",
   "execution_count": 9,
   "id": "7fcbd20e-2ca3-41ae-837b-4960721d474e",
   "metadata": {},
   "outputs": [],
   "source": [
    "kmeans_kwargs = {\n",
    "            \"init\": 'k-means++',\n",
    "            \"n_init\": 10,\n",
    "            \"max_iter\": 100,\n",
    "            \"random_state\": 42}\n",
    "\n"
   ]
  },
  {
   "cell_type": "markdown",
   "id": "ebf9b045-29e4-41d1-bd49-c801b93749f0",
   "metadata": {},
   "source": [
    "## Funções predefinidas"
   ]
  },
  {
   "cell_type": "markdown",
   "id": "2572e917-317b-463a-869e-df262ef82b86",
   "metadata": {},
   "source": [
    "### Scores"
   ]
  },
  {
   "cell_type": "code",
   "execution_count": 10,
   "id": "5a2f02a3-2bd8-4efe-84da-c11153cecc8a",
   "metadata": {},
   "outputs": [],
   "source": [
    "def metrics_calculation(xData, labelData):\n",
    "    sil_score = silhouette_score(xData, labelData, metric='euclidean')\n",
    "    ch_score = calinski_harabasz_score(xData, labelData)\n",
    "    return sil_score, ch_score"
   ]
  },
  {
   "cell_type": "markdown",
   "id": "d29d4a47-ebd5-4abe-bb34-28245b9d44f7",
   "metadata": {},
   "source": [
    "## Load data"
   ]
  },
  {
   "cell_type": "code",
   "execution_count": 11,
   "id": "1e23af35-24cb-48b1-bce6-8c120776cc67",
   "metadata": {},
   "outputs": [],
   "source": [
    "dfA = pd.read_csv(DATA_PATH)"
   ]
  },
  {
   "cell_type": "code",
   "execution_count": 12,
   "id": "efaf2ad1",
   "metadata": {
    "scrolled": true
   },
   "outputs": [
    {
     "data": {
      "text/plain": [
       "Index(['cod_cust_id', 'dt_fpy', 'atr_cust_age', 'dsc_edu_deg', 'amt_gms',\n",
       "       'atr_gla', 'flg_children', 'amt_cmv', 'rt_cr', 'amt_plob_motor',\n",
       "       'amt_plob_household', 'amt_plob_health', 'amt_plob_life',\n",
       "       'amt_plob_wcomp', 'Set', 'amt_premium_total', 'outlier_candidate',\n",
       "       'atr_edu_deg', 'atr_fpy_to_date', 'rt_plob_life', 'rt_plob_household',\n",
       "       'rt_plob_motor', 'rt_plob_health', 'rt_plob_wcomp', 'amt_gys',\n",
       "       'amt_claims_total', 'rt_premiums_year', 'rt_claims_year',\n",
       "       'atr_credit_score_proxy', 'fe_bin_plob_motor',\n",
       "       'fe_amt_plob_motor_scale', 'fe_bin_cmv_motor', 'fe_cmv_motor_scale',\n",
       "       'log_amt_plob_motor', 'minmax_amt_plob_motor', 'norm_amt_plob_motor',\n",
       "       'log_rt_plob_motor', 'fe_bin_plob_household',\n",
       "       'fe_amt_plob_household_scale', 'fe_bin_cmv_household',\n",
       "       'fe_cmv_household_scale', 'log_amt_plob_household',\n",
       "       'minmax_amt_plob_household', 'norm_amt_plob_household',\n",
       "       'log_rt_plob_household', 'fe_bin_plob_life', 'fe_amt_plob_life_scale',\n",
       "       'fe_bin_cmv_life', 'fe_cmv_life_scale', 'log_amt_plob_life',\n",
       "       'minmax_amt_plob_life', 'norm_amt_plob_life', 'log_rt_plob_life',\n",
       "       'fe_bin_plob_health', 'fe_amt_plob_health_scale', 'fe_bin_cmv_health',\n",
       "       'fe_cmv_health_scale', 'log_amt_plob_health', 'minmax_amt_plob_health',\n",
       "       'norm_amt_plob_health', 'log_rt_plob_health', 'fe_bin_plob_wcomp',\n",
       "       'fe_amt_plob_wcomp_scale', 'fe_bin_cmv_wcomp', 'fe_cmv_wcomp_scale',\n",
       "       'log_amt_plob_wcomp', 'minmax_amt_plob_wcomp', 'norm_amt_plob_wcomp',\n",
       "       'log_rt_plob_wcomp', 'minmax_amt_gms', 'norm_amt_gms', 'sqrt_amt_gms',\n",
       "       'minmax_amt_gys', 'norm_amt_gys', 'sqrt_amt_gys', 'minmax_atr_cust_age',\n",
       "       'norm_atr_cust_age', 'fe_bin_cust_age', 'minmax_dt_fpy', 'norm_dt_fpy',\n",
       "       'minmax_fpy_to_date', 'norm_fpy_to_date', 'sqrt_amt_cmv',\n",
       "       'log_amt_premium_total', 'fe_cmv_cr_quadrant_Type1_X',\n",
       "       'fe_cmv_cr_quadrant_Type1_Y', 'fe_cmv_cr_quadrant_Type2_X',\n",
       "       'fe_cmv_cr_quadrant_Type2_Y', 'PCA1_', 'PCA1_2', 'PCA1_3', 'PCA1_4',\n",
       "       'PCA1_5', 'PCA1_6', 'PCA2_', 'PCA2_2', 'PCA2_3', 'PCA2_4', 'PCA2_5',\n",
       "       'PCA2_6'],\n",
       "      dtype='object')"
      ]
     },
     "execution_count": 12,
     "metadata": {},
     "output_type": "execute_result"
    }
   ],
   "source": [
    "dfA.columns"
   ]
  },
  {
   "cell_type": "code",
   "execution_count": 15,
   "id": "c968ab82",
   "metadata": {},
   "outputs": [],
   "source": [
    "#dfA = dfA.loc[dfA['DATA_MAIN_CUT'] == 'KEEP']"
   ]
  },
  {
   "cell_type": "code",
   "execution_count": 88,
   "id": "4ab40d7a",
   "metadata": {},
   "outputs": [],
   "source": [
    "METRIC_FEATURES = ['atr_cust_age', 'flg_children', 'atr_edu_deg']\n",
    "ignore_columns = ['cod_cust_id']\n",
    "#BAD_FEATURES = ['dt_fpy', 'minmax_atr_cust_age', 'norm_atr_cust_age', 'PCA1_3', 'PCA2_', 'PCA1_4', 'mt_claims_total', 'fe_cmv_cr_quadrant_Type2_X', \n",
    "#                'fe_cmv_cr_quadrant_Type2_Y', 'amt_cmv', 'atr_gla', 'rt_cr', 'dt_fpy', 'sqrt_amt_cmv', 'PCA1_5', 'log_amt_plob_health']"
   ]
  },
  {
   "cell_type": "code",
   "execution_count": 89,
   "id": "9ea27c28",
   "metadata": {},
   "outputs": [],
   "source": [
    "columns = [column for column in dfA.select_dtypes(include=['int64', 'float64']) if (column not in ignore_columns) and (column not in METRIC_FEATURES) ]\n",
    "\n",
    "\n",
    "#select all columns of type int and float except id, cluster and test columns\n",
    "# columns_no_pre_transform = [column for column in dfInsuranceA.select_dtypes(include=['int64', 'float64']) if column not in ['cod_cust_id', 'Clusters_1', 'test_feature', 'sqrt_amt_cmv', 'log_amt_plob_life', 'log_amt_plob_household',\n",
    "#        'log_amt_plob_wcomp', 'minmax_amt_plob_health', 'minmax_amt_plob_motor',\n",
    "#        'minmax_amt_gms', 'log_amt_premium_total',\n",
    "#        'log_rt_plob_life', 'log_rt_plob_household', 'log_rt_plob_motor',\n",
    "#        'log_rt_plob_health', 'log_rt_plob_wcomp', 'minmax_atr_cust_age',\n",
    "#        'minmax_dt_fpy', 'minmax_fpy_to_date']]\n",
    "\n"
   ]
  },
  {
   "cell_type": "code",
   "execution_count": 90,
   "id": "931a8c2f-9959-4b16-89e4-740a8075d373",
   "metadata": {},
   "outputs": [],
   "source": [
    "# dfTrain = dfA.loc[dfA.Set == 'train']\n",
    "# dfTest = dfA.loc[dfA.Set == 'test']"
   ]
  },
  {
   "cell_type": "markdown",
   "id": "58e12a2d-85e1-4e20-adc7-e552d13fe6c4",
   "metadata": {},
   "source": [
    "## MLFLOW"
   ]
  },
  {
   "cell_type": "markdown",
   "id": "0acf0582-361b-4a72-a449-79f871f4d777",
   "metadata": {},
   "source": [
    "### OBRIGATORIO: START_RUN"
   ]
  },
  {
   "cell_type": "code",
   "execution_count": 91,
   "id": "801de38e-36a4-4fff-9436-43e2699a4b1a",
   "metadata": {},
   "outputs": [],
   "source": [
    "#mlflow.start_run()"
   ]
  },
  {
   "cell_type": "code",
   "execution_count": 9,
   "id": "64fedfad-07bb-46a2-b31d-bbe2a593f416",
   "metadata": {},
   "outputs": [],
   "source": [
    "METRIC_FEATURES = ['atr_cust_age', 'flg_children', 'atr_edu_deg']\n",
    "ignore_columns = ['cod_cust_id']\n",
    "columns = [column for column in dfA.select_dtypes(include=['int64', 'float64']) if (column not in ignore_columns) and (column not in METRIC_FEATURES) ]"
   ]
  },
  {
   "cell_type": "markdown",
   "id": "5d863b68-2b91-49c2-86e0-cc5ef21af282",
   "metadata": {},
   "source": [
    "### Correr o modelo"
   ]
  },
  {
   "cell_type": "markdown",
   "id": "c3d6bb3a-d29f-4d21-8b11-772c865b51af",
   "metadata": {},
   "source": [
    "## HEAC"
   ]
  },
  {
   "cell_type": "code",
   "execution_count": 99,
   "id": "63f97c4e",
   "metadata": {
    "scrolled": true
   },
   "outputs": [
    {
     "name": "stderr",
     "output_type": "stream",
     "text": [
      "C:\\Users\\JoãoMonteiro\\AppData\\Local\\Temp\\ipykernel_65972\\877577595.py:25: ConvergenceWarning: Number of distinct clusters (2) found smaller than n_clusters (3). Possibly due to duplicate points in X.\n",
      "  kmeans.fit(dfA[scols])\n",
      "C:\\Users\\JoãoMonteiro\\AppData\\Local\\Temp\\ipykernel_65972\\877577595.py:25: ConvergenceWarning: Number of distinct clusters (2) found smaller than n_clusters (3). Possibly due to duplicate points in X.\n",
      "  kmeans.fit(dfA[scols])\n",
      "C:\\Users\\JoãoMonteiro\\AppData\\Local\\Temp\\ipykernel_65972\\877577595.py:25: ConvergenceWarning: Number of distinct clusters (2) found smaller than n_clusters (3). Possibly due to duplicate points in X.\n",
      "  kmeans.fit(dfA[scols])\n",
      "C:\\Users\\JoãoMonteiro\\AppData\\Local\\Temp\\ipykernel_65972\\877577595.py:25: ConvergenceWarning: Number of distinct clusters (2) found smaller than n_clusters (3). Possibly due to duplicate points in X.\n",
      "  kmeans.fit(dfA[scols])\n",
      "C:\\Users\\JoãoMonteiro\\AppData\\Local\\Temp\\ipykernel_65972\\877577595.py:25: ConvergenceWarning: Number of distinct clusters (3) found smaller than n_clusters (4). Possibly due to duplicate points in X.\n",
      "  kmeans.fit(dfA[scols])\n",
      "C:\\Users\\JoãoMonteiro\\AppData\\Local\\Temp\\ipykernel_65972\\877577595.py:25: ConvergenceWarning: Number of distinct clusters (2) found smaller than n_clusters (4). Possibly due to duplicate points in X.\n",
      "  kmeans.fit(dfA[scols])\n",
      "C:\\Users\\JoãoMonteiro\\AppData\\Local\\Temp\\ipykernel_65972\\877577595.py:25: ConvergenceWarning: Number of distinct clusters (2) found smaller than n_clusters (4). Possibly due to duplicate points in X.\n",
      "  kmeans.fit(dfA[scols])\n",
      "C:\\Users\\JoãoMonteiro\\AppData\\Local\\Temp\\ipykernel_65972\\877577595.py:25: ConvergenceWarning: Number of distinct clusters (2) found smaller than n_clusters (4). Possibly due to duplicate points in X.\n",
      "  kmeans.fit(dfA[scols])\n",
      "C:\\Users\\JoãoMonteiro\\AppData\\Local\\Temp\\ipykernel_65972\\877577595.py:25: ConvergenceWarning: Number of distinct clusters (2) found smaller than n_clusters (4). Possibly due to duplicate points in X.\n",
      "  kmeans.fit(dfA[scols])\n"
     ]
    }
   ],
   "source": [
    "maxvars=5\n",
    "kmin=2\n",
    "kmax=4\n",
    "\n",
    "cols=columns\n",
    "results_for_each_k=[]\n",
    "vars_for_each_k={}\n",
    "bad_features = []\n",
    "\n",
    "for k in range(kmin,kmax+1):\n",
    "    bad_features = []\n",
    "    cols=columns\n",
    "    with mlflow.start_run(run_name=f'{k} Clusters Run') as parent_run:\n",
    "        mlflow.log_param('num_clusters', k)\n",
    "        selected_variables=[]\n",
    "        while(len(selected_variables)<maxvars):\n",
    "            results=[]\n",
    "            cols=[column for column in columns if (column not in bad_features) and (column not in selected_variables)]\n",
    "            for col in cols:\n",
    "                with mlflow.start_run(run_name = 'HEAC', nested = True) as child_run:\n",
    "                    scols=[]\n",
    "                    scols.extend(selected_variables)\n",
    "                    scols.append(col)\n",
    "                    kmeans = KMeans(n_clusters=k, **kmeans_kwargs)\n",
    "                    kmeans.fit(dfA[scols])\n",
    "                    sil_result = silhouette_score(dfA[METRIC_FEATURES], kmeans.predict(dfA[scols]))\n",
    "                    results.append(sil_result)\n",
    "                    \n",
    "                    mlflow.log_metric('silhouette_score', silhouette_score(dfA[METRIC_FEATURES], kmeans.predict(dfA[scols])))\n",
    "                    mlflow.log_metric('ch_score', calinski_harabasz_score(dfA[METRIC_FEATURES], kmeans.predict(dfA[scols])))\n",
    "                    mlflow.log_metric('db_score', davies_bouldin_score(dfA[METRIC_FEATURES], kmeans.predict(dfA[scols])))\n",
    "                    \n",
    "                    mlflow.sklearn.log_model(kmeans, artifact_path = 'head_model')\n",
    "                    mlflow.log_params(kmeans_kwargs)\n",
    "                    mlflow.log_param('features', scols)\n",
    "                    mlflow.log_param('num_clusters', k)\n",
    "                    if sil_result < 0.05:\n",
    "                        bad_features.append(col)\n",
    "\n",
    "            selected_var=cols[np.random.choice(np.argpartition(results, len(results) - 3)[-3:], 1)[0]]\n",
    "            #np.argmax(results)\n",
    "            #results[np.argpartition(results, -2)[-2:]])[0]\n",
    "            selected_variables.append(selected_var)\n",
    "            cols.remove(selected_var)\n",
    "        results_for_each_k.append(max(results))\n",
    "        vars_for_each_k[k]=selected_variables\n",
    "   \n"
   ]
  },
  {
   "cell_type": "markdown",
   "id": "0c75fcc1-7688-4da8-a3d5-a402d92e89ac",
   "metadata": {},
   "source": [
    "## LOVES\n",
    "\n",
    "### KMeans"
   ]
  },
  {
   "cell_type": "code",
   "execution_count": 17,
   "id": "20ab788a-164a-4b35-ba06-5691e55dc2e7",
   "metadata": {},
   "outputs": [],
   "source": [
    "METRIC_FEATURES = ['amt_plob_motor', 'amt_plob_household', 'amt_plob_life', 'amt_plob_health', 'amt_plob_wcomp', 'amt_cmv']\n",
    "ignore_columns = ['cod_cust_id', 'amt_gys']\n",
    "columns = [column for column in dfA.select_dtypes(include=['int64', 'float64']) if (column not in ignore_columns) and (column not in METRIC_FEATURES)\n",
    "                               and ('_gys' not in column)]"
   ]
  },
  {
   "cell_type": "code",
   "execution_count": 18,
   "id": "c782ec9f-7b37-49a0-a270-6141f775b564",
   "metadata": {},
   "outputs": [
    {
     "name": "stderr",
     "output_type": "stream",
     "text": [
      "C:\\Users\\JoãoMonteiro\\AppData\\Local\\Temp\\ipykernel_22416\\3603017550.py:25: ConvergenceWarning: Number of distinct clusters (2) found smaller than n_clusters (3). Possibly due to duplicate points in X.\n",
      "  kmeans.fit(dfA[scols])\n",
      "C:\\Users\\JoãoMonteiro\\AppData\\Local\\Temp\\ipykernel_22416\\3603017550.py:25: ConvergenceWarning: Number of distinct clusters (2) found smaller than n_clusters (3). Possibly due to duplicate points in X.\n",
      "  kmeans.fit(dfA[scols])\n",
      "C:\\Users\\JoãoMonteiro\\AppData\\Local\\Temp\\ipykernel_22416\\3603017550.py:25: ConvergenceWarning: Number of distinct clusters (2) found smaller than n_clusters (3). Possibly due to duplicate points in X.\n",
      "  kmeans.fit(dfA[scols])\n",
      "C:\\Users\\JoãoMonteiro\\AppData\\Local\\Temp\\ipykernel_22416\\3603017550.py:25: ConvergenceWarning: Number of distinct clusters (2) found smaller than n_clusters (3). Possibly due to duplicate points in X.\n",
      "  kmeans.fit(dfA[scols])\n",
      "C:\\Users\\JoãoMonteiro\\AppData\\Local\\Temp\\ipykernel_22416\\3603017550.py:25: ConvergenceWarning: Number of distinct clusters (2) found smaller than n_clusters (3). Possibly due to duplicate points in X.\n",
      "  kmeans.fit(dfA[scols])\n",
      "C:\\Users\\JoãoMonteiro\\AppData\\Local\\Temp\\ipykernel_22416\\3603017550.py:25: ConvergenceWarning: Number of distinct clusters (2) found smaller than n_clusters (4). Possibly due to duplicate points in X.\n",
      "  kmeans.fit(dfA[scols])\n",
      "C:\\Users\\JoãoMonteiro\\AppData\\Local\\Temp\\ipykernel_22416\\3603017550.py:25: ConvergenceWarning: Number of distinct clusters (3) found smaller than n_clusters (4). Possibly due to duplicate points in X.\n",
      "  kmeans.fit(dfA[scols])\n",
      "C:\\Users\\JoãoMonteiro\\AppData\\Local\\Temp\\ipykernel_22416\\3603017550.py:25: ConvergenceWarning: Number of distinct clusters (2) found smaller than n_clusters (4). Possibly due to duplicate points in X.\n",
      "  kmeans.fit(dfA[scols])\n",
      "C:\\Users\\JoãoMonteiro\\AppData\\Local\\Temp\\ipykernel_22416\\3603017550.py:25: ConvergenceWarning: Number of distinct clusters (2) found smaller than n_clusters (4). Possibly due to duplicate points in X.\n",
      "  kmeans.fit(dfA[scols])\n",
      "C:\\Users\\JoãoMonteiro\\AppData\\Local\\Temp\\ipykernel_22416\\3603017550.py:25: ConvergenceWarning: Number of distinct clusters (2) found smaller than n_clusters (4). Possibly due to duplicate points in X.\n",
      "  kmeans.fit(dfA[scols])\n",
      "C:\\Users\\JoãoMonteiro\\AppData\\Local\\Temp\\ipykernel_22416\\3603017550.py:25: ConvergenceWarning: Number of distinct clusters (2) found smaller than n_clusters (4). Possibly due to duplicate points in X.\n",
      "  kmeans.fit(dfA[scols])\n"
     ]
    }
   ],
   "source": [
    "maxvars=6\n",
    "kmin=3\n",
    "kmax=4\n",
    "\n",
    "cols=columns\n",
    "results_for_each_k=[]\n",
    "vars_for_each_k={}\n",
    "bad_features = []\n",
    "\n",
    "for k in range(kmin,kmax+1):\n",
    "    bad_features = []\n",
    "    cols=columns\n",
    "    with mlflow.start_run(run_name=f'{k} Clusters Run') as parent_run:\n",
    "        mlflow.log_param('num_clusters', k)\n",
    "        selected_variables=[]\n",
    "        while(len(selected_variables)<maxvars):\n",
    "            results=[]\n",
    "            cols=[column for column in columns if (column not in bad_features) and (column not in selected_variables)]\n",
    "            for col in cols:\n",
    "                with mlflow.start_run(run_name = 'LOVES', nested = True) as child_run:\n",
    "                    scols=[]\n",
    "                    scols.extend(selected_variables)\n",
    "                    scols.append(col)\n",
    "                    kmeans = DBSCAN(n_clusters=k, **kmeans_kwargs)\n",
    "                    kmeans.fit(dfA[scols])\n",
    "                    sil_result = silhouette_score(dfA[METRIC_FEATURES], kmeans.predict(dfA[scols]))\n",
    "                    results.append(sil_result)\n",
    "                    \n",
    "                    mlflow.log_metric('silhouette_score', silhouette_score(dfA[METRIC_FEATURES], kmeans.predict(dfA[scols])))\n",
    "                    mlflow.log_metric('ch_score', calinski_harabasz_score(dfA[METRIC_FEATURES], kmeans.predict(dfA[scols])))\n",
    "                    mlflow.log_metric('db_score', davies_bouldin_score(dfA[METRIC_FEATURES], kmeans.predict(dfA[scols])))\n",
    "                    \n",
    "                    mlflow.sklearn.log_model(kmeans, artifact_path = 'LOVES_model')\n",
    "                    mlflow.log_params(kmeans_kwargs)\n",
    "                    mlflow.log_param('features', scols)\n",
    "                    mlflow.log_param('num_clusters', k)\n",
    "                    if sil_result < 0.05:\n",
    "                        bad_features.append(col)\n",
    "\n",
    "            selected_var=cols[np.random.choice(np.argpartition(results, len(results) - 3)[-3:], 1)[0]]\n",
    "            #np.argmax(results)\n",
    "            #results[np.argpartition(results, -2)[-2:]])[0]\n",
    "            selected_variables.append(selected_var)\n",
    "            cols.remove(selected_var)\n",
    "        results_for_each_k.append(max(results))\n",
    "        vars_for_each_k[k]=selected_variables\n",
    "   \n"
   ]
  },
  {
   "cell_type": "markdown",
   "id": "06e7c8f4-3dd9-4cc9-96bf-48ee2af58d24",
   "metadata": {},
   "source": [
    "## SCORER\n",
    "\n",
    "### KMeans"
   ]
  },
  {
   "cell_type": "code",
   "execution_count": 13,
   "id": "01ee0acf-c2d8-471a-b5d9-e18e46276224",
   "metadata": {},
   "outputs": [],
   "source": [
    "METRIC_FEATURES = ['atr_cust_age', 'amt_gms', 'amt_cmv', 'amt_premium_total']\n",
    "ignore_columns = ['cod_cust_id', 'amt_gys']\n",
    "columns = [column for column in dfA.select_dtypes(include=['int64', 'float64']) if (column not in ignore_columns) and (column not in METRIC_FEATURES) and ('_gys' not in column) and ('_gms' not in column)]"
   ]
  },
  {
   "cell_type": "code",
   "execution_count": 14,
   "id": "91f43c2c-c7e6-4a95-a27a-4bace5c2c202",
   "metadata": {},
   "outputs": [
    {
     "name": "stderr",
     "output_type": "stream",
     "text": [
      "C:\\Users\\JoãoMonteiro\\AppData\\Local\\Temp\\ipykernel_25820\\2233858429.py:25: ConvergenceWarning: Number of distinct clusters (2) found smaller than n_clusters (3). Possibly due to duplicate points in X.\n",
      "  kmeans.fit(dfA[scols])\n",
      "C:\\Users\\JoãoMonteiro\\AppData\\Local\\Temp\\ipykernel_25820\\2233858429.py:25: ConvergenceWarning: Number of distinct clusters (2) found smaller than n_clusters (3). Possibly due to duplicate points in X.\n",
      "  kmeans.fit(dfA[scols])\n",
      "C:\\Users\\JoãoMonteiro\\AppData\\Local\\Temp\\ipykernel_25820\\2233858429.py:25: ConvergenceWarning: Number of distinct clusters (2) found smaller than n_clusters (3). Possibly due to duplicate points in X.\n",
      "  kmeans.fit(dfA[scols])\n",
      "C:\\Users\\JoãoMonteiro\\AppData\\Local\\Temp\\ipykernel_25820\\2233858429.py:25: ConvergenceWarning: Number of distinct clusters (2) found smaller than n_clusters (3). Possibly due to duplicate points in X.\n",
      "  kmeans.fit(dfA[scols])\n",
      "C:\\Users\\JoãoMonteiro\\AppData\\Local\\Temp\\ipykernel_25820\\2233858429.py:25: ConvergenceWarning: Number of distinct clusters (2) found smaller than n_clusters (3). Possibly due to duplicate points in X.\n",
      "  kmeans.fit(dfA[scols])\n",
      "C:\\Users\\JoãoMonteiro\\AppData\\Local\\Temp\\ipykernel_25820\\2233858429.py:25: ConvergenceWarning: Number of distinct clusters (2) found smaller than n_clusters (4). Possibly due to duplicate points in X.\n",
      "  kmeans.fit(dfA[scols])\n",
      "C:\\Users\\JoãoMonteiro\\AppData\\Local\\Temp\\ipykernel_25820\\2233858429.py:25: ConvergenceWarning: Number of distinct clusters (3) found smaller than n_clusters (4). Possibly due to duplicate points in X.\n",
      "  kmeans.fit(dfA[scols])\n",
      "C:\\Users\\JoãoMonteiro\\AppData\\Local\\Temp\\ipykernel_25820\\2233858429.py:25: ConvergenceWarning: Number of distinct clusters (2) found smaller than n_clusters (4). Possibly due to duplicate points in X.\n",
      "  kmeans.fit(dfA[scols])\n",
      "C:\\Users\\JoãoMonteiro\\AppData\\Local\\Temp\\ipykernel_25820\\2233858429.py:25: ConvergenceWarning: Number of distinct clusters (2) found smaller than n_clusters (4). Possibly due to duplicate points in X.\n",
      "  kmeans.fit(dfA[scols])\n",
      "C:\\Users\\JoãoMonteiro\\AppData\\Local\\Temp\\ipykernel_25820\\2233858429.py:25: ConvergenceWarning: Number of distinct clusters (2) found smaller than n_clusters (4). Possibly due to duplicate points in X.\n",
      "  kmeans.fit(dfA[scols])\n",
      "C:\\Users\\JoãoMonteiro\\AppData\\Local\\Temp\\ipykernel_25820\\2233858429.py:25: ConvergenceWarning: Number of distinct clusters (2) found smaller than n_clusters (4). Possibly due to duplicate points in X.\n",
      "  kmeans.fit(dfA[scols])\n"
     ]
    }
   ],
   "source": [
    "maxvars=6\n",
    "kmin=2\n",
    "kmax=4\n",
    "\n",
    "cols=columns\n",
    "results_for_each_k=[]\n",
    "vars_for_each_k={}\n",
    "bad_features = []\n",
    "\n",
    "for k in range(kmin,kmax+1):\n",
    "    bad_features = []\n",
    "    cols=columns\n",
    "    with mlflow.start_run(run_name=f'{k} Clusters Run') as parent_run:\n",
    "        mlflow.log_param('num_clusters', k)\n",
    "        selected_variables=[]\n",
    "        while(len(selected_variables)<maxvars):\n",
    "            results=[]\n",
    "            cols=[column for column in columns if (column not in bad_features) and (column not in selected_variables)]\n",
    "            for col in cols:\n",
    "                with mlflow.start_run(run_name = 'SCORER', nested = True) as child_run:\n",
    "                    scols=[]\n",
    "                    scols.extend(selected_variables)\n",
    "                    scols.append(col)\n",
    "                    kmeans = KMeans(n_clusters=k, **kmeans_kwargs)\n",
    "                    kmeans.fit(dfA[scols])\n",
    "                    sil_result = silhouette_score(dfA[METRIC_FEATURES], kmeans.predict(dfA[scols]))\n",
    "                    results.append(sil_result)\n",
    "                    \n",
    "                    mlflow.log_metric('silhouette_score', silhouette_score(dfA[METRIC_FEATURES], kmeans.predict(dfA[scols])))\n",
    "                    mlflow.log_metric('ch_score', calinski_harabasz_score(dfA[METRIC_FEATURES], kmeans.predict(dfA[scols])))\n",
    "                    mlflow.log_metric('db_score', davies_bouldin_score(dfA[METRIC_FEATURES], kmeans.predict(dfA[scols])))\n",
    "                    \n",
    "                    mlflow.sklearn.log_model(kmeans, artifact_path = 'SCORER_model')\n",
    "                    mlflow.log_params(kmeans_kwargs)\n",
    "                    mlflow.log_param('features', scols)\n",
    "                    mlflow.log_param('num_clusters', k)\n",
    "                    if sil_result < 0.05:\n",
    "                        bad_features.append(col)\n",
    "\n",
    "            selected_var=cols[np.random.choice(np.argpartition(results, len(results) - 3)[-3:], 1)[0]]\n",
    "            #np.argmax(results)\n",
    "            #results[np.argpartition(results, -2)[-2:]])[0]\n",
    "            selected_variables.append(selected_var)\n",
    "            cols.remove(selected_var)\n",
    "        results_for_each_k.append(max(results))\n",
    "        vars_for_each_k[k]=selected_variables\n",
    "   \n"
   ]
  },
  {
   "cell_type": "markdown",
   "id": "e538539c-774c-40e5-b97a-aca792636b3e",
   "metadata": {},
   "source": [
    "### DBSCAN"
   ]
  },
  {
   "cell_type": "code",
   "execution_count": 43,
   "id": "5909555b-05df-463a-84fa-6b6881842c65",
   "metadata": {},
   "outputs": [
    {
     "data": {
      "text/plain": [
       "Index(['cod_cust_id', 'dt_fpy', 'atr_cust_age', 'dsc_edu_deg', 'amt_gms',\n",
       "       'atr_gla', 'flg_children', 'amt_cmv', 'rt_cr', 'amt_plob_motor',\n",
       "       'amt_plob_household', 'amt_plob_health', 'amt_plob_life',\n",
       "       'amt_plob_wcomp', 'Set', 'amt_premium_total', 'outlier_candidate',\n",
       "       'atr_edu_deg', 'atr_fpy_to_date', 'rt_plob_life', 'rt_plob_household',\n",
       "       'rt_plob_motor', 'rt_plob_health', 'rt_plob_wcomp', 'amt_gys',\n",
       "       'amt_claims_total', 'rt_premiums_year', 'rt_claims_year',\n",
       "       'atr_credit_score_proxy', 'fe_bin_plob_motor',\n",
       "       'fe_amt_plob_motor_scale', 'fe_bin_cmv_motor', 'fe_cmv_motor_scale',\n",
       "       'log_amt_plob_motor', 'minmax_amt_plob_motor', 'norm_amt_plob_motor',\n",
       "       'log_rt_plob_motor', 'fe_bin_plob_household',\n",
       "       'fe_amt_plob_household_scale', 'fe_bin_cmv_household',\n",
       "       'fe_cmv_household_scale', 'log_amt_plob_household',\n",
       "       'minmax_amt_plob_household', 'norm_amt_plob_household',\n",
       "       'log_rt_plob_household', 'fe_bin_plob_life', 'fe_amt_plob_life_scale',\n",
       "       'fe_bin_cmv_life', 'fe_cmv_life_scale', 'log_amt_plob_life',\n",
       "       'minmax_amt_plob_life', 'norm_amt_plob_life', 'log_rt_plob_life',\n",
       "       'fe_bin_plob_health', 'fe_amt_plob_health_scale', 'fe_bin_cmv_health',\n",
       "       'fe_cmv_health_scale', 'log_amt_plob_health', 'minmax_amt_plob_health',\n",
       "       'norm_amt_plob_health', 'log_rt_plob_health', 'fe_bin_plob_wcomp',\n",
       "       'fe_amt_plob_wcomp_scale', 'fe_bin_cmv_wcomp', 'fe_cmv_wcomp_scale',\n",
       "       'log_amt_plob_wcomp', 'minmax_amt_plob_wcomp', 'norm_amt_plob_wcomp',\n",
       "       'log_rt_plob_wcomp', 'minmax_amt_gms', 'norm_amt_gms', 'sqrt_amt_gms',\n",
       "       'minmax_amt_gys', 'norm_amt_gys', 'sqrt_amt_gys', 'minmax_atr_cust_age',\n",
       "       'norm_atr_cust_age', 'fe_bin_cust_age', 'minmax_dt_fpy', 'norm_dt_fpy',\n",
       "       'minmax_fpy_to_date', 'norm_fpy_to_date', 'sqrt_amt_cmv',\n",
       "       'log_amt_premium_total', 'fe_cmv_cr_quadrant_Type1_X',\n",
       "       'fe_cmv_cr_quadrant_Type1_Y', 'fe_cmv_cr_quadrant_Type2_X',\n",
       "       'fe_cmv_cr_quadrant_Type2_Y', 'PCA1_', 'PCA1_2', 'PCA1_3', 'PCA1_4',\n",
       "       'PCA1_5', 'PCA1_6', 'PCA2_', 'PCA2_2', 'PCA2_3', 'PCA2_4', 'PCA2_5',\n",
       "       'PCA2_6'],\n",
       "      dtype='object')"
      ]
     },
     "execution_count": 43,
     "metadata": {},
     "output_type": "execute_result"
    }
   ],
   "source": [
    "dfA.columns"
   ]
  },
  {
   "cell_type": "code",
   "execution_count": 71,
   "id": "67e4251b-209b-4757-94b8-26c47eb16210",
   "metadata": {},
   "outputs": [],
   "source": [
    "dbscan_kwargs = {\n",
    "            \"metric\": \"euclidean\",\n",
    "            \"algorithm\": 'kd_tree',\n",
    "            \"min_samples\": 17}\n",
    "\n",
    "columns = [column for column in dfA.select_dtypes(include=['int64', 'float64']) if (column not in ignore_columns) and \n",
    "           ((column in ['flg_children', 'atr_edu_deg']) or  ('_scale' in column) or ('_quadrant' in column) or\n",
    "            (('rt_' in column) and ('sqrt' not in column)))]"
   ]
  },
  {
   "cell_type": "code",
   "execution_count": 73,
   "id": "ee0baea1-9b1b-4f32-bf0f-95225eba9b20",
   "metadata": {},
   "outputs": [],
   "source": [
    "maxvars=6\n",
    "eps_param = np.arange(0.1,0.81,0.1)\n",
    "\n",
    "cols=columns\n",
    "results_for_each_k=[]\n",
    "vars_for_each_k={}\n",
    "bad_features = []\n",
    "\n",
    "for k in eps_param:\n",
    "    bad_features = []\n",
    "    cols=columns\n",
    "    with mlflow.start_run(run_name=f'{k} Clusters Run') as parent_run:\n",
    "        mlflow.log_param('num_clusters', k)\n",
    "        selected_variables=[]\n",
    "        while(len(selected_variables)<maxvars):\n",
    "            results=[]\n",
    "            cols=[column for column in columns if (column not in bad_features) and (column not in selected_variables)]\n",
    "            for col in cols:\n",
    "                with mlflow.start_run(run_name = 'SCORER_DBSCAN', nested = True) as child_run:\n",
    "                    scols=[]\n",
    "                    scols.extend(selected_variables)\n",
    "                    scols.append(col)\n",
    "                    dbscan_model = DBSCAN(eps = k, **dbscan_kwargs)\n",
    "                    dbscan_model.fit(dfA[scols])\n",
    "                    predictions = dbscan_model.labels_\n",
    "                    if len(np.unique(predictions)) > 1:\n",
    "                        sil_result = calinski_harabasz_score(dfA[METRIC_FEATURES], predictions)\n",
    "                        results.append(sil_result)\n",
    "                        mlflow.set_tag(\"MODEL.TYPE\", \"DBSCAN\")\n",
    "                        mlflow.set_tag(\"MODEL.NAME\", \"SCORER\")\n",
    "                        mlflow.log_metric('silhouette_score', silhouette_score(dfA[METRIC_FEATURES], predictions))\n",
    "                        mlflow.log_metric('ch_score', calinski_harabasz_score(dfA[METRIC_FEATURES], predictions))\n",
    "                        mlflow.log_metric('db_score', davies_bouldin_score(dfA[METRIC_FEATURES], predictions))\n",
    "                        mlflow.log_params(dbscan_kwargs)\n",
    "                        mlflow.log_param('features', scols)\n",
    "                        mlflow.log_param('eps', k)\n",
    "                        mlflow.set_tag(\"MODEL.QUALITY\", \"OK\")\n",
    "                        if sil_result > 100:\n",
    "                            mlflow.set_tag(\"MODEL.QUALITY\", \"GOOD\")\n",
    "                            mlflow.sklearn.log_model(dbscan_model, artifact_path = 'SCORER_model')\n",
    "                            if sil_result > 500:\n",
    "                                mlflow.set_tag(\"MODEL.QUALITY\", \"HIGH\")\n",
    "                        if sil_result < 10:\n",
    "                            mlflow.set_tag(\"MODEL.QUALITY\", \"BAD\")\n",
    "                            bad_features.append(col)\n",
    "                    else:\n",
    "                        mlflow.set_tag(\"MODEL.QUALITY\", \"REMOVE\")\n",
    "\n",
    "            selected_var=cols[np.random.choice(np.argpartition(results, len(results) - 3)[-3:], 1)[0]]\n",
    "            #np.argmax(results)\n",
    "            #results[np.argpartition(results, -2)[-2:]])[0]\n",
    "            selected_variables.append(selected_var)\n",
    "            cols.remove(selected_var)\n",
    "        results_for_each_k.append(max(results))\n",
    "        vars_for_each_k[k]=selected_variables\n",
    "   \n"
   ]
  },
  {
   "cell_type": "code",
   "execution_count": 23,
   "id": "267ef204",
   "metadata": {},
   "outputs": [],
   "source": [
    " mlflow.end_run()"
   ]
  },
  {
   "cell_type": "code",
   "execution_count": 22,
   "id": "cd00d7aa-4571-45d1-97a9-31fbefa62153",
   "metadata": {},
   "outputs": [
    {
     "data": {
      "text/plain": [
       "KMeans(init='random', max_iter=20, n_clusters=3, random_state=42)"
      ]
     },
     "execution_count": 22,
     "metadata": {},
     "output_type": "execute_result"
    }
   ],
   "source": [
    "model_kmeans = KMeans(**kmeans_params)\n",
    "model_kmeans.fit(dfTrain[SELECTED_FEATURES])"
   ]
  },
  {
   "cell_type": "markdown",
   "id": "b898bfe3-fffe-458c-86fa-df7d7e811a46",
   "metadata": {},
   "source": [
    "#### Train"
   ]
  },
  {
   "cell_type": "code",
   "execution_count": 25,
   "id": "91e80e48-23ed-476e-9801-fcd762467039",
   "metadata": {},
   "outputs": [],
   "source": [
    "predict_labelData = model_kmeans.predict(dfTrain[SELECTED_FEATURES])\n",
    "sil_train, ch_train = metrics_calculation(dfTrain[SELECTED_FEATURES], predict_labelData)\n",
    "\n",
    "mlflow.log_metric('Train - Silhouette', sil_train)\n",
    "mlflow.log_metric('Train - Calinski Harabasz', ch_train)"
   ]
  },
  {
   "cell_type": "markdown",
   "id": "6159aa6e-85ff-4c1d-93ee-1df8b3e0868a",
   "metadata": {},
   "source": [
    "#### Test"
   ]
  },
  {
   "cell_type": "code",
   "execution_count": 26,
   "id": "0ab0ee7a-25c7-45db-b5b3-adb245e65792",
   "metadata": {},
   "outputs": [],
   "source": [
    "predict_labelData = model_kmeans.predict(dfTest[SELECTED_FEATURES])\n",
    "sil_test, ch_test = metrics_calculation(dfTest[SELECTED_FEATURES], predict_labelData)\n",
    "\n",
    "mlflow.log_metric('Test - Silhouette', sil_test)\n",
    "mlflow.log_metric('Test - Calinski Harabasz', ch_test)"
   ]
  },
  {
   "cell_type": "code",
   "execution_count": null,
   "id": "b06cb5b6-eee0-45f0-82c7-10d603bd0017",
   "metadata": {},
   "outputs": [],
   "source": []
  }
 ],
 "metadata": {
  "kernelspec": {
   "display_name": "Python 3 (ipykernel)",
   "language": "python",
   "name": "python3"
  },
  "language_info": {
   "codemirror_mode": {
    "name": "ipython",
    "version": 3
   },
   "file_extension": ".py",
   "mimetype": "text/x-python",
   "name": "python",
   "nbconvert_exporter": "python",
   "pygments_lexer": "ipython3",
   "version": "3.8.13"
  }
 },
 "nbformat": 4,
 "nbformat_minor": 5
}
